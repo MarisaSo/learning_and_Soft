{
  "cells": [
    {
      "attachments": {},
      "cell_type": "markdown",
      "metadata": {
        "id": "rh6cd8UZrIF0"
      },
      "source": [
        "\n",
        "# Projekt *Learning und Softcomputing* - Sommersemester 2023\n",
        "## Vorhersage von Flugpreisen \n",
        "**Gruppe 04**\n",
        "- Marisa Sophie Heinemann (DSAI 105714)\n",
        "- Timo Kranz (ITS 105862)\n",
        "\n",
        "**Daten**\n",
        "\n",
        "Der Datensatz verfügt über Daten für One-Way Flüge, die zwischen dem 16.04.2022 und dem 05.10.2022 auf Expedia gefunden wurden. Bereitgestellt wurde dieser von *Dillon Wong* auf [Kaggle](https://www.kaggle.com/datasets/dilwong/flightprices) sowie auf [GitHub](https://github.com/dilwong/FlightPrices). Eine weitere Beschreibung zu diesem finden Sie unter dem Punkt *2. Beschreibung Datensatzes*.\n",
        "\n",
        "**Aufgabenbeschreibung**\n",
        "\n",
        "Ziel des zu entwickelnden Modelles ist es auf Basis von verschiedenen Parametern einen Flugpreis vorherzusagen. \n",
        "\n",
        "**Aufbau dieses Notebooks**\n",
        "1. Hinweise zur Durchführung des Projektes\n",
        "2. Beschreibung des Datensatzes\n",
        "3. Benötigte Pakete\n",
        "4. Feature Engineering\n",
        "5. Exploritory Data Analysis"
      ]
    },
    {
      "attachments": {},
      "cell_type": "markdown",
      "metadata": {
        "id": "Vyw8L2vqrIF2"
      },
      "source": [
        "## 1. Hinweise zur Durchführung des Projektes\n",
        "\n",
        "Die praktische Übung zum Thema Maschine Learning kann mit [Jupyter Notebook](http://jupyter.org/) und [Scikit-Learn](http://scikit-learn.org/) durchgeführt werden. Wir verwenden die Google-Plattform [Colab](https://colab.research.google.com), die Jupyter Notebooks in der Cloud hostet. Dafür haben wir uns ein gemeinsames Konto angelegt. Dies ist allerdings keine Voraussetzung, da wir auch mit unterschiedlichen Konten gemeinsam an diesem Projekt arbeiten können. \n",
        "\n",
        "\n",
        "### Environment\n",
        "Sollte eine lokale Nuzung auf dem Computer gewünscht sein, um eine Berechnung ohne Netzzugang durchzuführen. Geht dies am besten über die Distribution Miniconda. (Mini)conda ist der Package Manager von Anaconda und ist somit eine Konsolen Applikation. Anaconda ist eine visuelles Front-End für (mini)conda. (Mini/Ana)Conda erlaubt uns die gleiche Umgebung auf jedem Rechner zu erstellen. Wir haben uns für Conda entschieden, da dieses eines der am meisten verwendeten Package Management Systems für Data Science und Machine Learning ist.  Für die Intstallation siehe die offizielle Website von [Miniaconda](https://docs.conda.io/en/latest/miniconda.html). Für die Erstellung der Enviroment haben wir eine .yml-Datei mit einer Liste aller benötigten Packages erstellt. Dieses finden Sie im [Moodle](https://lms.fh-wedel.de/course/view.php?id=207). Speichern Sie diese Datei auf Ihrem Rechner unter den Namen 'learning_env.yml' ab.\n",
        "Öffne Sie an dem Ort wo die Datei liegt eine Konsole. Um das Enviorment zu erstellen führen Sie folgenden Link aus:\n",
        "\n",
        "-  *conda env create -f learning_env.yml*\n",
        "\n",
        "Die Erstellung kann einige Minuten dauern. Aktivieren Sie anschließend das Enviroment in der Konsole.\n",
        "\n",
        "\n",
        "- *conda activate learning_env*\n",
        "\n",
        "learning_env steht hier für den in unserem Enviorment verwendetetn Namen in der ersten Zeile und nicht für den Datei Namen. Gehen Sie deshalb sicher, dass Sie nichts an der Datei verändert haben.\n",
        "Anschließend kann das Python Skript lokal durchgeführt werden.\n",
        "\n",
        "# Todo Link von Moodle\n",
        "Dieses Jupyter-Notebook finden Sie im [Moodle](https://lms.fh-wedel.de/course/view.php?id=207). \n",
        "\n",
        "\n",
        "Starten Sie dazu bitte [Colab](https://colab.research.google.com), in dem Sie mit dem Web-Browser auf https://colab.research.google.com gehen, wählen Sie dann *Upload Notebook* aus dem *File*-Menü und laden Sie bitte das File  *projekt_learning_und_softcomputing_gruppe04.ipynb* hoch. Um das Notebook sinvoll verwenden zu können ist es nötig die Daten im Drive abzulegen.\n"
      ]
    },
    {
      "attachments": {},
      "cell_type": "markdown",
      "metadata": {
        "id": "cYUj5KmfrIF3"
      },
      "source": [
        "## 2. Beschreibung des Datensatzes \n",
        "\n",
        "Der Datensatz enthält Informationen zu One-Way-Flügen, die zwischen dem *16.04.2022* und *05.10.2022* auf Expedia verfügbar waren. Er besteht aus *27 verschiedenen Featuren* und umfasst insgesamt *5.999.739 Datenpunkte*.\n",
        "Jede Zeile stellt einen Datensatz für einen auf Expedia gefundenen Flug dar. Ein und derselbe Flug kann in mehreren Zeilen erscheinen, da sich der Preis täglich ändern kann.\n",
        "Ingesammt umfasst der Datensatz eine 30 GB CSV-Datei. Zu beachten ist, dass der Datensatz ausschließlich Flüge zu und von US-Flughäfen umfasst. Diese enthaltenden Flughäfen haben folgende Kürzel:  ATL, DFW, DEN, ORD, LAX, CLT, MIA, JFK, EWR, SFO, DTW, BOS, PHL, LGA, IAD, OAK\n",
        "\n",
        "\n",
        "Die Fetures werden in der folgenden Tabelle näher beschrieben.\t \n",
        "\n",
        "\n",
        "| Feature                               | Beschreibung                                                                                   |\n",
        "|---------------------------------------|-----------------------------------------------------------------------------------------------|\n",
        "| legId                                 | Eine Kennung für den Flug.                                                                    |\n",
        "| searchDate                            | Das Datum (JJJJ-MM-TT), an dem dieser Eintrag von Expedia übernommen wurde.                    |\n",
        "| flightDate                            | Das Datum (JJJJ-MM-TT) des Fluges.                                                             |\n",
        "| startingAirport                       | Dreistelliger IATA-Flughafencode für den Abflugort.                                            |\n",
        "| destinationAirport                    | Dreistelliger IATA-Flughafencode für das Ziel.                                                 |\n",
        "| fareBasisCode                         | Der Tarifbasiscode.                                                                            |\n",
        "| travelDuration                        | Die Reisedauer in Stunden und Minuten.                                                        |\n",
        "| elapsedDays                           | Die Anzahl der vergangenen Tage (normalerweise 0).                                             |\n",
        "| isBasicEconomy                        | Boolescher Wert, ob das Ticket für Basic Economy gilt.                                         |\n",
        "| isRefundable                          | Boolescher Wert, ob das Ticket erstattungsfähig ist.                                           |\n",
        "| isNonStop                             | Boolescher Wert, ob der Flug nonstop ist.                                                      |\n",
        "| baseFare                              | Der Preis des Tickets (in USD).                                                                |\n",
        "| totalFare                             | Der Preis des Tickets (in USD), einschließlich Steuern und Gebühren.                           |\n",
        "| seatsRemaining                        | Ganzzahl für die Anzahl der verbleibenden Plätze.                                              |\n",
        "| totalTravelDistance                   | Die Gesamtreisedistanz in Meilen. Diese Daten können manchmal fehlen.                         |\n",
        "| segmentsDepartureTimeEpochSeconds     | Zeichenkette mit der Abflugzeit (Unix-Zeit) für jeden Flugabschnitt. Die Einträge für jeden Abschnitt sind durch '&#124;&#124;'  getrennt.|\n",
        "| segmentsDepartureTimeRaw              | Zeichenkette mit der Abflugzeit (ISO 8601-Format: JJJJ-MM-TTThh:mm:ss.000±[hh]:00) für jeden Flugabschnitt. Die Einträge für jeden Abschnitt sind durch  '&#124;&#124;'  getrennt.|\n",
        "| segmentsArrivalTimeEpochSeconds       | Zeichenkette mit der Ankunftszeit (Unix-Zeit) für jeden Flugabschnitt. Die Einträge für jeden Abschnitt sind durch  '&#124;&#124;'  getrennt.|\n",
        "| segmentsArrivalTimeRaw                | Zeichenkette mit der Ankunftszeit (ISO 8601-Format: JJJJ-MM-TTThh:mm:ss.000±[hh]:00) für jeden Flugabschnitt. Die Einträge für jeden Abschnitt sind durch '&#124;&#124;' getrennt.|\n",
        "| segmentsArrivalAirportCode            | Zeichenkette mit dem IATA-Flughafencode für das Ziel für jeden Flugabschnitt. Die Einträge für jeden Abschnitt sind durch  '&#124;&#124;'  getrennt.|\n",
        "| segmentsDepartureAirportCode          | Zeichenkette mit dem IATA-Flughafencode für den Abflugort für jeden Flugabschnitt. Die Einträge für jeden Abschnitt sind durch  '&#124;&#124;'  getrennt.|\n",
        "| segmentsAirlineName                   | Zeichenkette mit dem Namen der Fluggesellschaft, die jeden Flugabschnitt bedient. Die Einträge für jeden Abschnitt sind durch  '&#124;&#124;' getrennt.|\n",
        "| segmentsAirlineCode                   | Zeichenkette mit dem zweistelligen Fluggesellschaftscode, der jeden Flugabschnitt bedient. Die Einträge für jeden Abschnitt sind durch  '&#124;&#124;'  getrennt.|\n",
        "| segmentsEquipmentDescription          | Zeichenkette mit dem Typ des für jeden Flugabschnitt verwendeten Flugzeugs (z.B. \"Airbus A321\" oder \"Boeing 737-800\"). Die Einträge für jeden Abschnitt sind durch  '&#124;&#124;' getrennt.|\n",
        "| segmentsDurationInSeconds             | Zeichenkette mit der Dauer des Fluges (in Sekunden) für jeden Flugabschnitt. Die Einträge für jeden Abschnitt sind durch  '&#124;&#124;'  getrennt.|\n",
        "| segmentsDistance                      | Zeichenkette mit der zurückgelegten Strecke (in Meilen) für jeden Flugabschnitt. Die Einträge für jeden Abschnitt sind durch  '&#124;&#124;'  getrennt.|\n",
        "| segmentsCabinCode                     | Zeichenkette mit der Kabine für jeden Flugabschnitt (z.B. \"Economy\"). Die Einträge für jeden Abschnitt sind durch  '&#124;&#124;'  getrennt.|\n",
        "\n",
        "\n",
        "Unteranderem hatten folgende Argumente einen positiven Einfluss auf den Datensatz, so dass wir uns entschieden haben diesen für unser Projekt zu verwenden:\n",
        "- Viele Features \n",
        "- Interessante Features wie exaktes Datum und Anzahl übrige Sitzplätze \n",
        "- Sehr großer Datensatz\n",
        "- Persönliches Interesse an Flugdaten"
      ]
    },
    {
      "attachments": {},
      "cell_type": "markdown",
      "metadata": {
        "id": "TYS_Eoxbz9Xe"
      },
      "source": [
        "Verknüpfung mit Drive um auf die Daten zugreifen zu können."
      ]
    },
    {
      "cell_type": "code",
      "execution_count": null,
      "metadata": {
        "colab": {
          "base_uri": "https://localhost:8080/"
        },
        "id": "-BFTbS6rrl0-",
        "outputId": "f9635985-63d2-4120-dcb0-82fcb50de7ed"
      },
      "outputs": [],
      "source": [
        "from google.colab import drive\n",
        "drive.mount('/content/drive')"
      ]
    },
    {
      "attachments": {},
      "cell_type": "markdown",
      "metadata": {
        "id": "EiiVUu3Qmywu"
      },
      "source": [
        "CPU verbdinung herstellen"
      ]
    },
    {
      "cell_type": "code",
      "execution_count": null,
      "metadata": {
        "colab": {
          "base_uri": "https://localhost:8080/"
        },
        "id": "L8SUOpnvJiS4",
        "outputId": "e12490c2-294a-42ab-dfe0-8185767cade1"
      },
      "outputs": [],
      "source": [
        "#@markdown Check type of GPU and VRAM available.\n",
        "!nvidia-smi --query-gpu=name,memory.total,memory.free --format=csv,noheader"
      ]
    },
    {
      "cell_type": "code",
      "execution_count": 28,
      "metadata": {
        "id": "264kWnDNwdbI"
      },
      "outputs": [],
      "source": [
        "# boolean for debugging \n",
        "debug = True"
      ]
    },
    {
      "attachments": {},
      "cell_type": "markdown",
      "metadata": {
        "id": "m2STPp4orIF4"
      },
      "source": [
        "## Vorbereitung der Daten\n",
        "\n",
        "Zu Beginn unserer Arbeit mussten wir den Datensatz minimieren, da unser lokaler Speicher und die Cloud Kapazitäten nicht groß genung waren um den 30 GB großen Datensatz zu verarbeiten.\n",
        "Dafür haben wir den folgenden Code verwendet, diese hat zufällige Dateneinträge aus der Datei gezogen und in eine neue Datei geschrieben. \n",
        "Mit dieser neuen Datei werden wir folgend das Projekt durchhführen. \n",
        "Die Datei hat nur unikate Datensätze, ist 276 MB groß und hat 757385 Datenpunkte. \n",
        "\n",
        "Zur Reduzierung haben wir folgenden Code durchgeführt.\n",
        "\n"
      ]
    },
    {
      "attachments": {},
      "cell_type": "markdown",
      "metadata": {
        "id": "TUM4osQvuj_-"
      },
      "source": [
        "    import random\n",
        "    import csv\n",
        "\n",
        "    def halve_csv_file(input_file, output_file):\n",
        "    # Anzahl der Zeilen in der CSV-Datei ermitteln\n",
        "    with open(input_file, 'r') as file:\n",
        "        num_lines = sum(1 for line in file)\n",
        "\n",
        "    # Anzahl der Zeilen für die Ausgabe festlegen\n",
        "    num_output_lines = num_lines // 2\n",
        "\n",
        "    # Zufällige Auswahl von Zeilen erstellen\n",
        "    selected_lines = sorted(random.sample(range(1, num_lines + 1), num_output_lines))\n",
        "\n",
        "    with open(input_file, 'r') as input_csv, open(output_file, 'w', newline='') as output_csv:\n",
        "        reader = csv.reader(input_csv)\n",
        "        writer = csv.writer(output_csv)\n",
        "\n",
        "        # Ausgewählte Zeilen in die Ausgabedatei schreiben\n",
        "        for i, row in enumerate(reader, start=1):\n",
        "            if i in selected_lines:\n",
        "                writer.writerow(row)\n",
        "\n",
        "    print(f\"Die Datei wurde halbiert. Ursprüngliche Zeilen: {num_lines}, Ausgewählte Zeilen: {num_output_lines}\")\n",
        "\n",
        "    input_file = \"C:/Users/maris/OneDrive/Dokumente/Learning und Soft/df.csv\"\n",
        "    output_file = 'halbierte_datei.csv'\n",
        "    halve_csv_file(input_file, output_file)\n"
      ]
    },
    {
      "attachments": {},
      "cell_type": "markdown",
      "metadata": {
        "id": "2f56DuWVrIF4"
      },
      "source": [
        "## 3. Benötigte Pakete\n",
        "\n"
      ]
    },
    {
      "cell_type": "code",
      "execution_count": 29,
      "metadata": {
        "id": "U22o_1vtrIF4"
      },
      "outputs": [],
      "source": [
        "import numpy as np\n",
        "import pandas as pd\n",
        "import matplotlib.pyplot as plt\n",
        "import seaborn as sns"
      ]
    },
    {
      "attachments": {},
      "cell_type": "markdown",
      "metadata": {
        "id": "LMseUSY5rIF5"
      },
      "source": [
        "## 4. Feature Engineering \n",
        "\n",
        "Die vorhandenen Daten sind möglicherweise nicht direkt für den Einsatz von Machine-Learning-Algorithmen geeignet. Es gibt mehrere Gründe dafür:\n",
        "- Die Art der Features ist möglicherweise ungeeignet.\n",
        "- Die Wertebereiche der Features können variieren.\n",
        "- Die Zusammenhänge zwischen den Features sind möglicherweise schwer zu erkennen.\n",
        "\n",
        "Um diese Herausforderungen anzugehen, werden wir zunächst Feature Engineering durchführen. "
      ]
    },
    {
      "cell_type": "code",
      "execution_count": 30,
      "metadata": {
        "id": "OI2kNKwQrIF5"
      },
      "outputs": [],
      "source": [
        "#csv_path = \"/content/drive/MyDrive/Colab Notebooks/dataset_flight_prices.csv\"\n",
        "csv_path =\"C:/Users/maris/OneDrive/Dokumente/Learning und Soft/dataset_flight_prices.csv\"\n",
        "df = pd.read_csv(csv_path)"
      ]
    },
    {
      "cell_type": "code",
      "execution_count": null,
      "metadata": {
        "colab": {
          "base_uri": "https://localhost:8080/",
          "height": 421
        },
        "id": "g9RK4RLmrIF6",
        "outputId": "603270d4-d95d-4245-af2d-9ff10eb1c7c2"
      },
      "outputs": [],
      "source": [
        "#Check top 5 data\n",
        "df.head(5)"
      ]
    },
    {
      "cell_type": "code",
      "execution_count": null,
      "metadata": {
        "colab": {
          "base_uri": "https://localhost:8080/"
        },
        "id": "5wM5f-BMrIF7",
        "outputId": "cb8ea0e9-e7ac-455d-ef6b-4f9898c87ca9"
      },
      "outputs": [],
      "source": [
        "#Shape of the data\n",
        "df.shape"
      ]
    },
    {
      "cell_type": "code",
      "execution_count": null,
      "metadata": {
        "colab": {
          "base_uri": "https://localhost:8080/"
        },
        "id": "JQEWUTSUrIF8",
        "outputId": "9f19d919-72d7-44e2-fbc9-75c4827e6b37"
      },
      "outputs": [],
      "source": [
        "#Information about dataset\n",
        "df.info()"
      ]
    },
    {
      "cell_type": "code",
      "execution_count": null,
      "metadata": {
        "colab": {
          "base_uri": "https://localhost:8080/"
        },
        "id": "SpyO16NgrIF8",
        "outputId": "471a0551-9888-4737-f3ff-2968170e23c4"
      },
      "outputs": [],
      "source": [
        "#Checking number of NULL values\n",
        "#df.isnull().sum()\n",
        "df.isna().sum()\n"
      ]
    },
    {
      "cell_type": "code",
      "execution_count": null,
      "metadata": {
        "colab": {
          "base_uri": "https://localhost:8080/"
        },
        "id": "DPlQgkP6rIF9",
        "outputId": "58d9b306-8234-441a-ddb8-ffab010cefb2"
      },
      "outputs": [],
      "source": [
        "df.dtypes"
      ]
    },
    {
      "cell_type": "code",
      "execution_count": 31,
      "metadata": {
        "id": "zKjE9QujrIF9"
      },
      "outputs": [],
      "source": [
        "#Dropping NA values\n",
        "# if only some values are missing, then we drop them\n",
        "df.dropna(inplace=True)"
      ]
    },
    {
      "cell_type": "code",
      "execution_count": 32,
      "metadata": {
        "id": "rHOyeXSJvpfS"
      },
      "outputs": [],
      "source": [
        "# check if duplicates in the data \n",
        "dublicates = df.duplicated().sum() > 0\n",
        "\n",
        "if (dublicates > 0):\n",
        "    print('There are '+ dublicates + 'Dublicates. Now there are dropped' )\n",
        "    # drop duplication in train data\n",
        "    df.drop_duplicates(inplace=True)"
      ]
    },
    {
      "cell_type": "code",
      "execution_count": 33,
      "metadata": {
        "id": "KAOGoyngv_eo"
      },
      "outputs": [],
      "source": [
        "import re\n",
        "# Function to convert duration which is saved as object in to minutes as int\n",
        "def convert_duration(duration):\n",
        "    hours = int(re.findall(r'(\\d+)H', duration)[0]) if 'H' in duration else 0\n",
        "    minutes = int(re.findall(r'(\\d+)M', duration)[0]) if 'M' in duration else 0\n",
        "    total_minutes = hours * 60 + minutes\n",
        "    return total_minutes"
      ]
    },
    {
      "cell_type": "code",
      "execution_count": 34,
      "metadata": {
        "id": "5SVsKgY6wCug"
      },
      "outputs": [],
      "source": [
        "# 'travelDuration' column is in the format \"PT2H29M\", wee need to convert this in a numeric value\n",
        "# Create a new 'travelDurationMinutes' column\n",
        "df['travelDurationMinutes'] = df['travelDuration'].apply(convert_duration)"
      ]
    },
    {
      "cell_type": "code",
      "execution_count": 35,
      "metadata": {
        "id": "VCCMol7iwJX7"
      },
      "outputs": [],
      "source": [
        "# Convert the Dates column fromm object to datetime format\n",
        "df['flightDate'] = pd.to_datetime(df['flightDate'])\n",
        "df['searchDate'] = pd.to_datetime(df['searchDate'])\n",
        "# Extract the numerical components from the datetime column\n",
        "#df['searchYear'] = df['searchDate'].dt.year #all the same\n",
        "df['searchMonth'] = df['searchDate'].dt.month.astype(str)\n",
        "df['searchDay'] = df['searchDate'].dt.day.astype(str)\n",
        "# Extract the numerical components from the datetime column\n",
        "#df['year'] = df['flightDate'].dt.year #all same\n",
        "df['flightMonth'] = df['flightDate'].dt.month.astype(str)\n",
        "df['flightDay'] = df['flightDate'].dt.day.astype(str)\n",
        "# the month and day type is integer but the month not quantitive value so we convert it to string \n",
        "\n",
        "# Derived features\n",
        "# To express dependencies between existing features features, combined features are introduced. \n",
        "# Calculate the number of days left and Creat a new 'daysLeft' column as int\n",
        "df['daysLeft'] = (df['flightDate'] - df['searchDate']).dt.days.astype(int)\n",
        "\n",
        "\n",
        "def safeDay(data, column, newColumn):\n",
        "    data[newColumn] = pd.to_datetime(data[column]).dt.strftime('%A')\n",
        "\n",
        "# Creat a new column, which presents the day of this date\n",
        "safeDay(df, 'flightDate', 'flightDateDay')\n",
        "safeDay(df, 'searchDate', 'searchDateDay')"
      ]
    },
    {
      "cell_type": "code",
      "execution_count": 36,
      "metadata": {
        "id": "Kld7ZvJIwMlI"
      },
      "outputs": [],
      "source": [
        "# The time is always listed after 'T' in the data, since a flight can contain several stops, it can be that the string shows several times\n",
        "# We are only interested in the hours and minutes\n",
        "# For the arrival time, we always want the last time\n",
        "# For departure we always want the first time\n",
        "\n",
        "def extract_time(time_string, pattern):\n",
        "    extracted_time = re.search(pattern, time_string)\n",
        "    if extracted_time:\n",
        "        time_digits = extracted_time.group(1)[:5].replace(':', '.')\n",
        "        return float(time_digits)\n",
        "    return None\n",
        "\n",
        "\n",
        "patternLast = r'T([^T]*)$' # Searches characters after the last occurrence of the T\n",
        "patternFirst = r'T(.{5})' # Searches 5 charcters after the first 'T'\n",
        "\n",
        "\n",
        "df['arrivalTime'] = df['segmentsArrivalTimeRaw'].apply(lambda x: extract_time(x, patternLast))\n",
        "df['depatureTime'] = df['segmentsDepartureTimeRaw'].apply(lambda x: extract_time(x, patternFirst))"
      ]
    },
    {
      "cell_type": "code",
      "execution_count": 37,
      "metadata": {
        "colab": {
          "base_uri": "https://localhost:8080/"
        },
        "id": "WU-yIuNuwSh4",
        "outputId": "d998e513-8974-48a4-bea0-91455c0e9015"
      },
      "outputs": [
        {
          "name": "stdout",
          "output_type": "stream",
          "text": [
            "        arrivalTime                             segmentsArrivalTimeRaw  \\\n",
            "0             15.26                      2022-04-17T15:26:00.000-04:00   \n",
            "1              9.00                      2022-04-17T09:00:00.000-04:00   \n",
            "2             12.32  2022-04-17T08:21:00.000-04:00||2022-04-17T12:3...   \n",
            "3             13.38  2022-04-17T08:21:00.000-04:00||2022-04-17T13:3...   \n",
            "4             10.16  2022-04-17T07:18:00.000-04:00||2022-04-17T10:1...   \n",
            "...             ...                                                ...   \n",
            "757380        13.33                      2022-06-07T13:33:00.000-04:00   \n",
            "757381         9.33                      2022-06-07T09:33:00.000-04:00   \n",
            "757382        20.33                      2022-06-07T20:33:00.000-04:00   \n",
            "757383        11.48                      2022-06-07T11:48:00.000-04:00   \n",
            "757384        20.29  2022-06-07T13:05:00.000-04:00||2022-06-07T20:2...   \n",
            "\n",
            "        depatureTime                           segmentsDepartureTimeRaw  \n",
            "0              12.57                      2022-04-17T12:57:00.000-04:00  \n",
            "1               6.30                      2022-04-17T06:30:00.000-04:00  \n",
            "2               7.00  2022-04-17T07:00:00.000-04:00||2022-04-17T10:2...  \n",
            "3               7.00  2022-04-17T07:00:00.000-04:00||2022-04-17T11:2...  \n",
            "4               5.30  2022-04-17T05:30:00.000-04:00||2022-04-17T08:3...  \n",
            "...              ...                                                ...  \n",
            "757380         10.30                      2022-06-07T10:30:00.000-05:00  \n",
            "757381          6.30                      2022-06-07T06:30:00.000-05:00  \n",
            "757382         17.30                      2022-06-07T17:30:00.000-05:00  \n",
            "757383          8.30                      2022-06-07T08:30:00.000-05:00  \n",
            "757384          9.43  2022-06-07T09:43:00.000-05:00||2022-06-07T19:0...  \n",
            "\n",
            "[698528 rows x 4 columns]\n"
          ]
        }
      ],
      "source": [
        "#checking that the correct times are selected\n",
        "if debug: \n",
        "    print(df[['arrivalTime', 'segmentsArrivalTimeRaw','depatureTime', 'segmentsDepartureTimeRaw' ]])\n"
      ]
    },
    {
      "cell_type": "code",
      "execution_count": 38,
      "metadata": {
        "colab": {
          "base_uri": "https://localhost:8080/"
        },
        "id": "C6qTMOhCwXPI",
        "outputId": "74976f03-5ffc-4bda-fddb-ffc13dbfd74c"
      },
      "outputs": [
        {
          "name": "stdout",
          "output_type": "stream",
          "text": [
            "<class 'pandas.core.frame.DataFrame'>\n",
            "Int64Index: 698528 entries, 0 to 757384\n",
            "Data columns (total 37 columns):\n",
            " #   Column                             Non-Null Count   Dtype         \n",
            "---  ------                             --------------   -----         \n",
            " 0   legId                              698528 non-null  object        \n",
            " 1   searchDate                         698528 non-null  datetime64[ns]\n",
            " 2   flightDate                         698528 non-null  datetime64[ns]\n",
            " 3   startingAirport                    698528 non-null  object        \n",
            " 4   destinationAirport                 698528 non-null  object        \n",
            " 5   fareBasisCode                      698528 non-null  object        \n",
            " 6   travelDuration                     698528 non-null  object        \n",
            " 7   elapsedDays                        698528 non-null  int64         \n",
            " 8   isBasicEconomy                     698528 non-null  bool          \n",
            " 9   isRefundable                       698528 non-null  bool          \n",
            " 10  isNonStop                          698528 non-null  bool          \n",
            " 11  baseFare                           698528 non-null  float64       \n",
            " 12  totalFare                          698528 non-null  float64       \n",
            " 13  seatsRemaining                     698528 non-null  int64         \n",
            " 14  totalTravelDistance                698528 non-null  float64       \n",
            " 15  segmentsDepartureTimeEpochSeconds  698528 non-null  object        \n",
            " 16  segmentsDepartureTimeRaw           698528 non-null  object        \n",
            " 17  segmentsArrivalTimeEpochSeconds    698528 non-null  object        \n",
            " 18  segmentsArrivalTimeRaw             698528 non-null  object        \n",
            " 19  segmentsArrivalAirportCode         698528 non-null  object        \n",
            " 20  segmentsDepartureAirportCode       698528 non-null  object        \n",
            " 21  segmentsAirlineName                698528 non-null  object        \n",
            " 22  segmentsAirlineCode                698528 non-null  object        \n",
            " 23  segmentsEquipmentDescription       698528 non-null  object        \n",
            " 24  segmentsDurationInSeconds          698528 non-null  object        \n",
            " 25  segmentsDistance                   698528 non-null  object        \n",
            " 26  segmentsCabinCode                  698528 non-null  object        \n",
            " 27  travelDurationMinutes              698528 non-null  int64         \n",
            " 28  searchMonth                        698528 non-null  object        \n",
            " 29  searchDay                          698528 non-null  object        \n",
            " 30  flightMonth                        698528 non-null  object        \n",
            " 31  flightDay                          698528 non-null  object        \n",
            " 32  daysLeft                           698528 non-null  int32         \n",
            " 33  flightDateDay                      698528 non-null  object        \n",
            " 34  searchDateDay                      698528 non-null  object        \n",
            " 35  arrivalTime                        698528 non-null  float64       \n",
            " 36  depatureTime                       698528 non-null  float64       \n",
            "dtypes: bool(3), datetime64[ns](2), float64(5), int32(1), int64(3), object(23)\n",
            "memory usage: 185.9+ MB\n"
          ]
        }
      ],
      "source": [
        "#check if erverything was succesfull\n",
        "if debug:\n",
        "    df.info()\n",
        "    df.head(5)"
      ]
    },
    {
      "cell_type": "code",
      "execution_count": 39,
      "metadata": {},
      "outputs": [],
      "source": [
        "# Funktion um zu Zählen wir häufig '||' im String vorkommt.\n",
        "# Dieses Zeichen kommt immer dann vor, wenn invormationen unterschiedlicher Flüge in einem String aufgelistet werden\n",
        "# Durch das Zählen dieses Strings und anschließend das dividieren durch 2 können die Anzahl an Stopps ermittelt werden\n",
        "# counting the number of Stopps\n",
        "# Wenn die Variable 'isnNonStop' true ist, wird der dummy Variable 0 zugeweisen\n",
        "# Ansonsten werden die Stops gezählt\n",
        "df['totalStops'] = np.where(df['isNonStop'], 0, df['segmentsAirlineName'].str.count('\\|')//2)\n",
        "\n",
        "#check Anzahl der Vorkomnisse\n",
        "if debug:\n",
        "    df['totalStops'].value_counts()"
      ]
    },
    {
      "cell_type": "code",
      "execution_count": 40,
      "metadata": {},
      "outputs": [],
      "source": [
        "# Add now column with full route\n",
        "df['totalRoute'] = df['segmentsDepartureAirportCode'] + '||' + df['destinationAirport']"
      ]
    },
    {
      "attachments": {},
      "cell_type": "markdown",
      "metadata": {
        "id": "1fSJGVAKwsEl"
      },
      "source": [
        "## Feature selection \n",
        "Bei der Erstauswahl der Features haben wir \"Expertenwissen\" eingeholt. Dafür haben wir uns mit dem Thema Flugpreise und öknomische Preisbildung vertraut gemacht.\n",
        "Zunächst nehmen wir in unseren Dataframe folgende Features mit auf.\n",
        "\n",
        "**startingAirport** and **destinationAirport**: In diesen Spalten können die geografischen Informationen des Fluges erfasst werden, die für die Ermittlung der Flugpreise auf der Grundlage von Faktoren wie Entfernung, Beliebtheit der Strecken und regionale Preisunterschiede von Bedeutung sein können.\n",
        "\n",
        "**fareBasisCode**: Diese Spalte kann Aufschluss über die Tarifregeln und die Preisstruktur der Tickets geben, was auf Preisschwankungen hinweisen kann.\n",
        "\n",
        "**travelDurationMinutes** (*new*): Die Dauer des Fluges kann ein wichtiger Faktor sein, der die Ticketpreise beeinflusst. Längere Flüge haben in der Regel höhere Preise.\n",
        "\n",
        "**totalStops** (*new*):\n",
        "\n",
        "**isBasicEconomy, isRefundable**: Diese booleschen Spalten können Informationen über bestimmte Ticketmerkmale liefern, die sich auf den Preis auswirken können. Einfache Economy-Tickets, erstattungsfähige Tickets und Non-Stop-Flüge können unterschiedliche Preisspannen haben.\n",
        "\n",
        "**baseFare** and **totalFare**: Diese Spalten stellen direkt die Ticketpreise dar, die die Zielvariable für Ihr maschinelles Lernmodell sind.\n",
        "\n",
        "**seatsRemaining**: Die Anzahl der verbleibenden Plätze auf einem Flug kann ein Indikator für die Ticketnachfrage und die Preisdynamik sein. Sie kann bei der Vorhersage von Preisschwankungen hilfreich sein.\n",
        "\n",
        "**totalTravelDistance**: Die Gesamtentfernung kann zusätzliche Informationen über den Flug und seine möglichen Auswirkungen auf die Ticketpreise liefern.\n",
        "\n",
        "**segmentsAirlineName**: Diese Information kann nützlich sein, um die Auswirkungen der verschiedenen Fluggesellschaften auf die Flugpreise zu verstehen. Einige Fluggesellschaften haben den Ruf, niedrigere oder höhere Preise anzubieten.\n",
        "\n",
        "**segmentsEquipmentDescription**: Der Flugzeugtyp kann für die Vorhersage von Flugpreisen relevant sein, da verschiedene Flugzeugtypen unterschiedliche Betriebskosten, Kapazitäten oder Komfortniveaus haben können. Bestimmte Flugzeugmodelle können mit Premium-Diensten oder höheren Preisen verbunden sein.\n",
        "\n",
        "**daysLeft** (*new*): Ermöglicht es dem Modell, den Buchungszeitraum und mögliche Preisschwankungen in der Nähe des Abflugdatums zu berücksichtigen.\n",
        "\n",
        "\n",
        "**flightDate**: The 'flightDate' column represents the specific date of the flight. This can be useful in analyzing any patterns or trends in flight prices based on different days, weeks, or months. For example, prices may vary depending on the day of the week or the time of year. You can extract features such as day of the week or month from this column to capture such temporal patterns.\n",
        "\n",
        "**searchDate**: The 'searchDate' column indicates the date when the flight information was obtained from Expedia. It can be used in conjunction with the 'flightDate' column to calculate the number of days left until the flight, which can be an important factor in pricing. This information can be valuable in capturing the time sensitivity of ticket prices.\n",
        "\n",
        "\n",
        "**flightDateDay** (*new*) and **searchDateDay** (*new*): Der Wochentag kann einen Einfluss auf den Preis haben, da die Nachfrage an Wochenenden eventuell größer sein könnte.\n",
        "\n",
        "**arrivalTime** (*new*) and **depatureTime** (*new*): Die Uhrzeit des Abfluges und der Ankunft könnte einen Einfluss auf den Preis haben. Da gute Flugzeiten beliebter und praktischer für Kunden sein könnten.\n"
      ]
    },
    {
      "attachments": {},
      "cell_type": "markdown",
      "metadata": {},
      "source": [
        "Ausortieren von Daten, die keine (großen) Veränderung aufzeigen."
      ]
    },
    {
      "cell_type": "code",
      "execution_count": 41,
      "metadata": {},
      "outputs": [
        {
          "name": "stdout",
          "output_type": "stream",
          "text": [
            "4    698528\n",
            "Name: searchMonth, dtype: int64\n"
          ]
        }
      ],
      "source": [
        "# Da die Flüge alle die selben Suchmonate aufweisen, wird dieses Feature aussortiert, da keine Information dadraus entnommen werden kann\n",
        "unique_counts_searchMonth = df['searchMonth'].value_counts()\n",
        "print(unique_counts_searchMonth)"
      ]
    },
    {
      "cell_type": "code",
      "execution_count": 42,
      "metadata": {},
      "outputs": [
        {
          "name": "stdout",
          "output_type": "stream",
          "text": [
            "False    698524\n",
            "True          4\n",
            "Name: isRefundable, dtype: int64\n"
          ]
        }
      ],
      "source": [
        "# Da nur eine handvoll Daten refundable sind, wird diese Variable nicht weiter betrachtet\n",
        "unique_isRefundable = df['isRefundable'].value_counts()\n",
        "print(unique_isRefundable)"
      ]
    },
    {
      "cell_type": "code",
      "execution_count": 97,
      "metadata": {
        "id": "bPzln1r2w26x"
      },
      "outputs": [],
      "source": [
        "# selection of the desired columns\n",
        "desired_columns = [ 'baseFare', 'startingAirport', 'destinationAirport', 'travelDurationMinutes', 'daysLeft', 'isBasicEconomy', \n",
        "                   'seatsRemaining', 'totalTravelDistance', 'segmentsAirlineName', 'segmentsEquipmentDescription',\n",
        "                    'flightDateDay','searchDateDay', 'arrivalTime', 'depatureTime', 'flightDay' , 'flightMonth', 'searchDay',  'totalStops']\n",
        "\n",
        "# creat new dataframe with selected columns\n",
        "df_new = df[desired_columns].copy()\n",
        "#df=df_new"
      ]
    },
    {
      "cell_type": "code",
      "execution_count": null,
      "metadata": {},
      "outputs": [],
      "source": [
        "# Select a random 20% of rows from the DataFrame\n",
        "#random_sample = df_new.sample(frac=0.5, random_state=42)\n",
        "random_sample = df_new"
      ]
    },
    {
      "cell_type": "code",
      "execution_count": null,
      "metadata": {},
      "outputs": [],
      "source": [
        "df_new.info()"
      ]
    },
    {
      "cell_type": "code",
      "execution_count": null,
      "metadata": {},
      "outputs": [],
      "source": [
        "from sklearn.preprocessing import LabelEncoder\n",
        "labelencoder=LabelEncoder()"
      ]
    },
    {
      "cell_type": "code",
      "execution_count": 44,
      "metadata": {},
      "outputs": [],
      "source": [
        "from sklearn.preprocessing import OneHotEncoder\n",
        "\n",
        "ohe = OneHotEncoder(handle_unknown=\"ignore\", sparse=False)\n"
      ]
    },
    {
      "cell_type": "code",
      "execution_count": null,
      "metadata": {},
      "outputs": [],
      "source": [
        "## raus\n",
        "import pandas as pd\n",
        "from sklearn.preprocessing import OneHotEncoder\n",
        "\n",
        "def one_hot_encode_and_convert_to_int(df, column_to_encode):\n",
        "    # Create an instance of OneHotEncoder\n",
        "    ohe = OneHotEncoder(handle_unknown=\"ignore\", sparse=False)\n",
        "    \n",
        "    # Perform one-hot encoding using fit_transform\n",
        "    encoded_column = ohe.fit_transform(df[column_to_encode].values.reshape(-1, 1))\n",
        "    \n",
        "    # Convert boolean values to integers (True -> 1, False -> 0)\n",
        "    encoded_column = encoded_column.astype(int)\n",
        "    \n",
        "    # Create column names based on the original column and categories\n",
        "    column_names = [f\"{column_to_encode}_{category}\" for category in ohe.categories_[0]]\n",
        "    \n",
        "    # Create a DataFrame from the encoded column\n",
        "    encoded_df = pd.DataFrame(encoded_column, columns=column_names)\n",
        "    \n",
        "    # Concatenate the encoded DataFrame with the original DataFrame\n",
        "    df_encoded = pd.concat([df, encoded_df], axis=1)\n",
        "    \n",
        "    return df_encoded\n",
        "\n",
        "# Assuming 'flightDateDay' is the column you want to one-hot encode\n",
        "column_to_encode = 'flightDateDay'\n",
        "\n",
        "# Call the function to perform one-hot encoding and conversion to integers\n",
        "df_new_encoded = one_hot_encode_and_convert_to_int(df_new, column_to_encode)\n",
        "df_new = df_new_encoded\n",
        "\n",
        "# Assuming 'searchDateDay' is the column you want to one-hot encode\n",
        "column_to_encode = 'searchDateDay'\n",
        "\n",
        "# Call the function to perform one-hot encoding and conversion to integers\n",
        "df_new_encoded = one_hot_encode_and_convert_to_int(df_new, column_to_encode)\n",
        "df_new = df_new_encoded\n",
        "\n",
        "# Print the updated DataFrame\n",
        "df_new\n"
      ]
    },
    {
      "cell_type": "code",
      "execution_count": null,
      "metadata": {},
      "outputs": [],
      "source": [
        "#diese version wäre besser aber ist falsch\n",
        "\n",
        "import pandas as pd\n",
        "from sklearn.preprocessing import OneHotEncoder\n",
        "\n",
        "def one_hot_encode_and_convert_to_int(df, column_to_encode):\n",
        "    # Create an instance of OneHotEncoder\n",
        "    ohe = OneHotEncoder(handle_unknown=\"ignore\", sparse=False)\n",
        "    \n",
        "    # Perform one-hot encoding using fit_transform\n",
        "    encoded_column = ohe.fit_transform(df[column_to_encode].values.reshape(-1, 1))\n",
        "    \n",
        "    # Convert boolean values to integers (True -> 1, False -> 0)\n",
        "    encoded_column = encoded_column.astype(int)\n",
        "    \n",
        "    # Create column names based on the original column and categories\n",
        "    column_names = [f\"{column_to_encode}_{category}\" for category in ohe.categories_[0]]\n",
        "    \n",
        "    # Create a DataFrame from the encoded column\n",
        "    encoded_df = pd.DataFrame(encoded_column, columns=column_names)\n",
        "    \n",
        "    # Concatenate the encoded DataFrame with the original DataFrame\n",
        "    df_encoded = pd.concat([df, encoded_df], axis=1)\n",
        "    \n",
        "    \n",
        "    return df_encoded\n",
        "\n",
        "# Assuming 'flightDateDay' is the column you want to one-hot encode\n",
        "column_to_encode = 'flightDateDay'\n",
        "\n",
        "# Call the function to perform one-hot encoding and conversion to integers\n",
        "df_new_encoded = one_hot_encode_and_convert_to_int(df_new, column_to_encode)\n",
        "df_new = df_new_encoded\n",
        "\n",
        "column_to_encode = 'searchDateDay'\n",
        "# Call the function to perform one-hot encoding and conversion to integers\n",
        "df_new_encoded = one_hot_encode_and_convert_to_int(df_new, column_to_encode)\n",
        "\n",
        "# Print the updated DataFrame\n",
        "df_new_encoded\n"
      ]
    },
    {
      "cell_type": "code",
      "execution_count": 45,
      "metadata": {},
      "outputs": [],
      "source": [
        "#möglichkeit die funktioniert (favorit)\n",
        "\n",
        "def one_hot_encode_and_convert_to_int_days(df, column_to_encode):\n",
        "    # Specify the categories\n",
        "    categories = ['Monday', 'Tuesday', 'Wednesday', 'Thursday', 'Friday', 'Saturday', 'Sunday']\n",
        "\n",
        "    # Perform one-hot encoding using get_dummies() with specific categories\n",
        "    encoded_column = pd.get_dummies(df[column_to_encode], prefix=column_to_encode, columns=categories)\n",
        "        \n",
        "    # Convert boolean values to integers (True -> 1, False -> 0)\n",
        "    encoded_column = encoded_column.astype(int)\n",
        "    \n",
        "    # Concatenate the encoded column with the original DataFrame\n",
        "    df_encoded = pd.concat([df_new, encoded_column], axis=1)\n",
        "    \n",
        "    return df_encoded\n",
        "\n",
        "\n"
      ]
    },
    {
      "cell_type": "code",
      "execution_count": 46,
      "metadata": {},
      "outputs": [
        {
          "data": {
            "text/html": [
              "<div>\n",
              "<style scoped>\n",
              "    .dataframe tbody tr th:only-of-type {\n",
              "        vertical-align: middle;\n",
              "    }\n",
              "\n",
              "    .dataframe tbody tr th {\n",
              "        vertical-align: top;\n",
              "    }\n",
              "\n",
              "    .dataframe thead th {\n",
              "        text-align: right;\n",
              "    }\n",
              "</style>\n",
              "<table border=\"1\" class=\"dataframe\">\n",
              "  <thead>\n",
              "    <tr style=\"text-align: right;\">\n",
              "      <th></th>\n",
              "      <th>baseFare</th>\n",
              "      <th>startingAirport</th>\n",
              "      <th>destinationAirport</th>\n",
              "      <th>travelDurationMinutes</th>\n",
              "      <th>daysLeft</th>\n",
              "      <th>isBasicEconomy</th>\n",
              "      <th>seatsRemaining</th>\n",
              "      <th>totalTravelDistance</th>\n",
              "      <th>segmentsAirlineName</th>\n",
              "      <th>segmentsEquipmentDescription</th>\n",
              "      <th>...</th>\n",
              "      <th>flightDateDay_Monday</th>\n",
              "      <th>flightDateDay_Saturday</th>\n",
              "      <th>flightDateDay_Sunday</th>\n",
              "      <th>flightDateDay_Thursday</th>\n",
              "      <th>flightDateDay_Tuesday</th>\n",
              "      <th>flightDateDay_Wednesday</th>\n",
              "      <th>searchDateDay_Monday</th>\n",
              "      <th>searchDateDay_Saturday</th>\n",
              "      <th>searchDateDay_Sunday</th>\n",
              "      <th>searchDateDay_Tuesday</th>\n",
              "    </tr>\n",
              "  </thead>\n",
              "  <tbody>\n",
              "    <tr>\n",
              "      <th>0</th>\n",
              "      <td>217.67</td>\n",
              "      <td>ATL</td>\n",
              "      <td>BOS</td>\n",
              "      <td>149</td>\n",
              "      <td>1</td>\n",
              "      <td>False</td>\n",
              "      <td>9</td>\n",
              "      <td>947.0</td>\n",
              "      <td>Delta</td>\n",
              "      <td>Airbus A321</td>\n",
              "      <td>...</td>\n",
              "      <td>0</td>\n",
              "      <td>0</td>\n",
              "      <td>1</td>\n",
              "      <td>0</td>\n",
              "      <td>0</td>\n",
              "      <td>0</td>\n",
              "      <td>0</td>\n",
              "      <td>1</td>\n",
              "      <td>0</td>\n",
              "      <td>0</td>\n",
              "    </tr>\n",
              "    <tr>\n",
              "      <th>1</th>\n",
              "      <td>217.67</td>\n",
              "      <td>ATL</td>\n",
              "      <td>BOS</td>\n",
              "      <td>150</td>\n",
              "      <td>1</td>\n",
              "      <td>False</td>\n",
              "      <td>4</td>\n",
              "      <td>947.0</td>\n",
              "      <td>Delta</td>\n",
              "      <td>Airbus A321</td>\n",
              "      <td>...</td>\n",
              "      <td>0</td>\n",
              "      <td>0</td>\n",
              "      <td>1</td>\n",
              "      <td>0</td>\n",
              "      <td>0</td>\n",
              "      <td>0</td>\n",
              "      <td>0</td>\n",
              "      <td>1</td>\n",
              "      <td>0</td>\n",
              "      <td>0</td>\n",
              "    </tr>\n",
              "    <tr>\n",
              "      <th>2</th>\n",
              "      <td>213.02</td>\n",
              "      <td>ATL</td>\n",
              "      <td>BOS</td>\n",
              "      <td>332</td>\n",
              "      <td>1</td>\n",
              "      <td>False</td>\n",
              "      <td>7</td>\n",
              "      <td>956.0</td>\n",
              "      <td>American Airlines||American Airlines</td>\n",
              "      <td>Airbus A319||Airbus A320</td>\n",
              "      <td>...</td>\n",
              "      <td>0</td>\n",
              "      <td>0</td>\n",
              "      <td>1</td>\n",
              "      <td>0</td>\n",
              "      <td>0</td>\n",
              "      <td>0</td>\n",
              "      <td>0</td>\n",
              "      <td>1</td>\n",
              "      <td>0</td>\n",
              "      <td>0</td>\n",
              "    </tr>\n",
              "    <tr>\n",
              "      <th>3</th>\n",
              "      <td>213.02</td>\n",
              "      <td>ATL</td>\n",
              "      <td>BOS</td>\n",
              "      <td>398</td>\n",
              "      <td>1</td>\n",
              "      <td>False</td>\n",
              "      <td>7</td>\n",
              "      <td>956.0</td>\n",
              "      <td>American Airlines||American Airlines</td>\n",
              "      <td>Airbus A319||Boeing 737-800</td>\n",
              "      <td>...</td>\n",
              "      <td>0</td>\n",
              "      <td>0</td>\n",
              "      <td>1</td>\n",
              "      <td>0</td>\n",
              "      <td>0</td>\n",
              "      <td>0</td>\n",
              "      <td>0</td>\n",
              "      <td>1</td>\n",
              "      <td>0</td>\n",
              "      <td>0</td>\n",
              "    </tr>\n",
              "    <tr>\n",
              "      <th>4</th>\n",
              "      <td>213.02</td>\n",
              "      <td>ATL</td>\n",
              "      <td>BOS</td>\n",
              "      <td>286</td>\n",
              "      <td>1</td>\n",
              "      <td>False</td>\n",
              "      <td>1</td>\n",
              "      <td>947.0</td>\n",
              "      <td>United||United</td>\n",
              "      <td>Airbus A319||Boeing 737-800</td>\n",
              "      <td>...</td>\n",
              "      <td>0</td>\n",
              "      <td>0</td>\n",
              "      <td>1</td>\n",
              "      <td>0</td>\n",
              "      <td>0</td>\n",
              "      <td>0</td>\n",
              "      <td>0</td>\n",
              "      <td>1</td>\n",
              "      <td>0</td>\n",
              "      <td>0</td>\n",
              "    </tr>\n",
              "    <tr>\n",
              "      <th>...</th>\n",
              "      <td>...</td>\n",
              "      <td>...</td>\n",
              "      <td>...</td>\n",
              "      <td>...</td>\n",
              "      <td>...</td>\n",
              "      <td>...</td>\n",
              "      <td>...</td>\n",
              "      <td>...</td>\n",
              "      <td>...</td>\n",
              "      <td>...</td>\n",
              "      <td>...</td>\n",
              "      <td>...</td>\n",
              "      <td>...</td>\n",
              "      <td>...</td>\n",
              "      <td>...</td>\n",
              "      <td>...</td>\n",
              "      <td>...</td>\n",
              "      <td>...</td>\n",
              "      <td>...</td>\n",
              "      <td>...</td>\n",
              "      <td>...</td>\n",
              "    </tr>\n",
              "    <tr>\n",
              "      <th>757380</th>\n",
              "      <td>96.74</td>\n",
              "      <td>ORD</td>\n",
              "      <td>LGA</td>\n",
              "      <td>123</td>\n",
              "      <td>49</td>\n",
              "      <td>False</td>\n",
              "      <td>7</td>\n",
              "      <td>720.0</td>\n",
              "      <td>JetBlue Airways</td>\n",
              "      <td>Airbus A319</td>\n",
              "      <td>...</td>\n",
              "      <td>0</td>\n",
              "      <td>0</td>\n",
              "      <td>0</td>\n",
              "      <td>0</td>\n",
              "      <td>1</td>\n",
              "      <td>0</td>\n",
              "      <td>0</td>\n",
              "      <td>0</td>\n",
              "      <td>0</td>\n",
              "      <td>1</td>\n",
              "    </tr>\n",
              "    <tr>\n",
              "      <th>757381</th>\n",
              "      <td>96.74</td>\n",
              "      <td>ORD</td>\n",
              "      <td>LGA</td>\n",
              "      <td>123</td>\n",
              "      <td>49</td>\n",
              "      <td>False</td>\n",
              "      <td>7</td>\n",
              "      <td>720.0</td>\n",
              "      <td>JetBlue Airways</td>\n",
              "      <td>Boeing 737-800</td>\n",
              "      <td>...</td>\n",
              "      <td>0</td>\n",
              "      <td>0</td>\n",
              "      <td>0</td>\n",
              "      <td>0</td>\n",
              "      <td>1</td>\n",
              "      <td>0</td>\n",
              "      <td>0</td>\n",
              "      <td>0</td>\n",
              "      <td>0</td>\n",
              "      <td>1</td>\n",
              "    </tr>\n",
              "    <tr>\n",
              "      <th>757382</th>\n",
              "      <td>96.74</td>\n",
              "      <td>ORD</td>\n",
              "      <td>LGA</td>\n",
              "      <td>123</td>\n",
              "      <td>49</td>\n",
              "      <td>False</td>\n",
              "      <td>7</td>\n",
              "      <td>720.0</td>\n",
              "      <td>JetBlue Airways</td>\n",
              "      <td>Boeing 737-800</td>\n",
              "      <td>...</td>\n",
              "      <td>0</td>\n",
              "      <td>0</td>\n",
              "      <td>0</td>\n",
              "      <td>0</td>\n",
              "      <td>1</td>\n",
              "      <td>0</td>\n",
              "      <td>0</td>\n",
              "      <td>0</td>\n",
              "      <td>0</td>\n",
              "      <td>1</td>\n",
              "    </tr>\n",
              "    <tr>\n",
              "      <th>757383</th>\n",
              "      <td>96.74</td>\n",
              "      <td>ORD</td>\n",
              "      <td>LGA</td>\n",
              "      <td>138</td>\n",
              "      <td>49</td>\n",
              "      <td>False</td>\n",
              "      <td>9</td>\n",
              "      <td>720.0</td>\n",
              "      <td>Delta</td>\n",
              "      <td>Airbus A220-100</td>\n",
              "      <td>...</td>\n",
              "      <td>0</td>\n",
              "      <td>0</td>\n",
              "      <td>0</td>\n",
              "      <td>0</td>\n",
              "      <td>1</td>\n",
              "      <td>0</td>\n",
              "      <td>0</td>\n",
              "      <td>0</td>\n",
              "      <td>0</td>\n",
              "      <td>1</td>\n",
              "    </tr>\n",
              "    <tr>\n",
              "      <th>757384</th>\n",
              "      <td>120.00</td>\n",
              "      <td>ORD</td>\n",
              "      <td>LGA</td>\n",
              "      <td>586</td>\n",
              "      <td>49</td>\n",
              "      <td>False</td>\n",
              "      <td>7</td>\n",
              "      <td>1047.0</td>\n",
              "      <td>JetBlue Airways||JetBlue Airways</td>\n",
              "      <td>||Embraer 190</td>\n",
              "      <td>...</td>\n",
              "      <td>0</td>\n",
              "      <td>0</td>\n",
              "      <td>0</td>\n",
              "      <td>0</td>\n",
              "      <td>1</td>\n",
              "      <td>0</td>\n",
              "      <td>0</td>\n",
              "      <td>0</td>\n",
              "      <td>0</td>\n",
              "      <td>1</td>\n",
              "    </tr>\n",
              "  </tbody>\n",
              "</table>\n",
              "<p>698528 rows × 29 columns</p>\n",
              "</div>"
            ],
            "text/plain": [
              "        baseFare startingAirport destinationAirport  travelDurationMinutes  \\\n",
              "0         217.67             ATL                BOS                    149   \n",
              "1         217.67             ATL                BOS                    150   \n",
              "2         213.02             ATL                BOS                    332   \n",
              "3         213.02             ATL                BOS                    398   \n",
              "4         213.02             ATL                BOS                    286   \n",
              "...          ...             ...                ...                    ...   \n",
              "757380     96.74             ORD                LGA                    123   \n",
              "757381     96.74             ORD                LGA                    123   \n",
              "757382     96.74             ORD                LGA                    123   \n",
              "757383     96.74             ORD                LGA                    138   \n",
              "757384    120.00             ORD                LGA                    586   \n",
              "\n",
              "        daysLeft  isBasicEconomy  seatsRemaining  totalTravelDistance  \\\n",
              "0              1           False               9                947.0   \n",
              "1              1           False               4                947.0   \n",
              "2              1           False               7                956.0   \n",
              "3              1           False               7                956.0   \n",
              "4              1           False               1                947.0   \n",
              "...          ...             ...             ...                  ...   \n",
              "757380        49           False               7                720.0   \n",
              "757381        49           False               7                720.0   \n",
              "757382        49           False               7                720.0   \n",
              "757383        49           False               9                720.0   \n",
              "757384        49           False               7               1047.0   \n",
              "\n",
              "                         segmentsAirlineName segmentsEquipmentDescription  \\\n",
              "0                                      Delta                  Airbus A321   \n",
              "1                                      Delta                  Airbus A321   \n",
              "2       American Airlines||American Airlines     Airbus A319||Airbus A320   \n",
              "3       American Airlines||American Airlines  Airbus A319||Boeing 737-800   \n",
              "4                             United||United  Airbus A319||Boeing 737-800   \n",
              "...                                      ...                          ...   \n",
              "757380                       JetBlue Airways                  Airbus A319   \n",
              "757381                       JetBlue Airways               Boeing 737-800   \n",
              "757382                       JetBlue Airways               Boeing 737-800   \n",
              "757383                                 Delta              Airbus A220-100   \n",
              "757384      JetBlue Airways||JetBlue Airways                ||Embraer 190   \n",
              "\n",
              "        ... flightDateDay_Monday flightDateDay_Saturday  flightDateDay_Sunday  \\\n",
              "0       ...                    0                      0                     1   \n",
              "1       ...                    0                      0                     1   \n",
              "2       ...                    0                      0                     1   \n",
              "3       ...                    0                      0                     1   \n",
              "4       ...                    0                      0                     1   \n",
              "...     ...                  ...                    ...                   ...   \n",
              "757380  ...                    0                      0                     0   \n",
              "757381  ...                    0                      0                     0   \n",
              "757382  ...                    0                      0                     0   \n",
              "757383  ...                    0                      0                     0   \n",
              "757384  ...                    0                      0                     0   \n",
              "\n",
              "        flightDateDay_Thursday flightDateDay_Tuesday flightDateDay_Wednesday  \\\n",
              "0                            0                     0                       0   \n",
              "1                            0                     0                       0   \n",
              "2                            0                     0                       0   \n",
              "3                            0                     0                       0   \n",
              "4                            0                     0                       0   \n",
              "...                        ...                   ...                     ...   \n",
              "757380                       0                     1                       0   \n",
              "757381                       0                     1                       0   \n",
              "757382                       0                     1                       0   \n",
              "757383                       0                     1                       0   \n",
              "757384                       0                     1                       0   \n",
              "\n",
              "       searchDateDay_Monday  searchDateDay_Saturday  searchDateDay_Sunday  \\\n",
              "0                         0                       1                     0   \n",
              "1                         0                       1                     0   \n",
              "2                         0                       1                     0   \n",
              "3                         0                       1                     0   \n",
              "4                         0                       1                     0   \n",
              "...                     ...                     ...                   ...   \n",
              "757380                    0                       0                     0   \n",
              "757381                    0                       0                     0   \n",
              "757382                    0                       0                     0   \n",
              "757383                    0                       0                     0   \n",
              "757384                    0                       0                     0   \n",
              "\n",
              "        searchDateDay_Tuesday  \n",
              "0                           0  \n",
              "1                           0  \n",
              "2                           0  \n",
              "3                           0  \n",
              "4                           0  \n",
              "...                       ...  \n",
              "757380                      1  \n",
              "757381                      1  \n",
              "757382                      1  \n",
              "757383                      1  \n",
              "757384                      1  \n",
              "\n",
              "[698528 rows x 29 columns]"
            ]
          },
          "execution_count": 46,
          "metadata": {},
          "output_type": "execute_result"
        }
      ],
      "source": [
        "#favorit\n",
        "\n",
        "\n",
        "# Assuming 'flightDateDay' is the column you want to one-hot encode\n",
        "column_to_encode = 'flightDateDay'\n",
        "\n",
        "# Call the function to perform one-hot encoding and conversion to integers\n",
        "df_encoded = one_hot_encode_and_convert_to_int_days(df_new, column_to_encode)\n",
        "\n",
        "df_new = df_encoded\n",
        "\n",
        "column_to_encode = 'searchDateDay'\n",
        "\n",
        "# Call the function to perform one-hot encoding and conversion to integers\n",
        "df_encoded = one_hot_encode_and_convert_to_int_days(df_new, column_to_encode)\n",
        "df_new = df_encoded\n",
        "\n",
        "# Print the updated DataFrame\n",
        "df_new"
      ]
    },
    {
      "cell_type": "code",
      "execution_count": 47,
      "metadata": {},
      "outputs": [],
      "source": [
        "def change_equipment_to_categorie(data):\n",
        "    airbus = 'airbus'\n",
        "    boeing = 'boeing'\n",
        "    other = 'other'\n",
        "\n",
        "    def categorize_equipment(description):\n",
        "        description = description.lower()\n",
        "        if airbus in description and boeing in description:\n",
        "            return \"boeing_airbus\"\n",
        "        elif airbus in description:\n",
        "            return airbus\n",
        "        elif boeing in description:\n",
        "            return boeing\n",
        "        else:\n",
        "            return other\n",
        "\n",
        "    data['segmentsEquipmentDescription'] = data['segmentsEquipmentDescription'].apply(categorize_equipment)\n",
        "\n",
        "    return data\n"
      ]
    },
    {
      "cell_type": "code",
      "execution_count": 58,
      "metadata": {},
      "outputs": [
        {
          "name": "stdout",
          "output_type": "stream",
          "text": [
            "Boeing 737-800                                     39291\n",
            "Airbus A321                                        35372\n",
            "Boeing 737-800||Boeing 737-800                     20820\n",
            "Airbus A321||Airbus A321                           17610\n",
            "Airbus A320                                        17022\n",
            "Boeing 737-800||Airbus A321                        13449\n",
            "Airbus A321||Boeing 737-800                        13194\n",
            "Embraer 175                                        12958\n",
            "Boeing 737-900                                     12308\n",
            "Airbus A319                                        12151\n",
            "Airbus A319||Boeing 737-800                         8488\n",
            "Boeing 737-800||Airbus A319                         8120\n",
            "Embraer 175 (Enhanced Winglets)                     7732\n",
            "Embraer 190                                         7511\n",
            "Airbus A320||Airbus A320                            7203\n",
            "Boeing 737-900||Boeing 737-900                      6550\n",
            "AIRBUS INDUSTRIE A321 SHARKLETS                     6513\n",
            "Boeing 737-800||Airbus A320                         5690\n",
            "||                                                  5639\n",
            "Airbus A321||Airbus A320                            5509\n",
            "Airbus A320||Boeing 737-800                         5390\n",
            "Airbus A320||Airbus A321                            5356\n",
            "Boeing 737 MAX 8                                    5277\n",
            "Airbus A321||Boeing 717                             5213\n",
            "Airbus A319-321                                     5028\n",
            "Embraer 175||Boeing 737-800                         5005\n",
            "Embraer 175 (Enhanced Winglets)||Boeing 737-900     4912\n",
            "Boeing 717||Airbus A321                             4893\n",
            "Embraer 190||Embraer 190                            4881\n",
            "Airbus A320||Boeing 737-900                         4815\n",
            "Name: segmentsEquipmentDescription, dtype: int64\n"
          ]
        }
      ],
      "source": [
        "unique_segmentsEquipmentDescription = df['segmentsEquipmentDescription'].value_counts()\n",
        "print(unique_segmentsEquipmentDescription.head(30))"
      ]
    },
    {
      "cell_type": "code",
      "execution_count": 48,
      "metadata": {},
      "outputs": [],
      "source": [
        "# DataFrame 'df' enthält eine Spalte 'segmentsEquipmentDescription'\n",
        "\n",
        "# Funktionsaufruf, um die Ausrüstungskategorien zu ändern\n",
        "df_updated = change_equipment_to_categorie(df_new)\n",
        "\n",
        "# Das aktualisierte DataFrame anzeigen\n",
        "df_new = df_updated\n"
      ]
    },
    {
      "cell_type": "code",
      "execution_count": 51,
      "metadata": {},
      "outputs": [],
      "source": [
        "def one_hot_encode_and_convert_to_int_aircraft(df, column_to_encode):\n",
        "    # Specify the categories\n",
        "    #categories = ['boeing', 'airbus', 'boeing_airbus', 'other_aircraft']\n",
        "\n",
        "    # Perform one-hot encoding using get_dummies() with specific categories\n",
        "    encoded_column = pd.get_dummies(df[column_to_encode])\n",
        "    \n",
        "    \n",
        "    # Convert boolean values to integers (True -> 1, False -> 0)\n",
        "    encoded_column = encoded_column.astype(int)\n",
        "    \n",
        "    # Concatenate the encoded column with the original DataFrame\n",
        "    df_encoded = pd.concat([df_new, encoded_column], axis=1)\n",
        "    \n",
        "    return df_encoded"
      ]
    },
    {
      "cell_type": "code",
      "execution_count": 52,
      "metadata": {},
      "outputs": [
        {
          "data": {
            "text/html": [
              "<div>\n",
              "<style scoped>\n",
              "    .dataframe tbody tr th:only-of-type {\n",
              "        vertical-align: middle;\n",
              "    }\n",
              "\n",
              "    .dataframe tbody tr th {\n",
              "        vertical-align: top;\n",
              "    }\n",
              "\n",
              "    .dataframe thead th {\n",
              "        text-align: right;\n",
              "    }\n",
              "</style>\n",
              "<table border=\"1\" class=\"dataframe\">\n",
              "  <thead>\n",
              "    <tr style=\"text-align: right;\">\n",
              "      <th></th>\n",
              "      <th>baseFare</th>\n",
              "      <th>startingAirport</th>\n",
              "      <th>destinationAirport</th>\n",
              "      <th>travelDurationMinutes</th>\n",
              "      <th>daysLeft</th>\n",
              "      <th>isBasicEconomy</th>\n",
              "      <th>seatsRemaining</th>\n",
              "      <th>totalTravelDistance</th>\n",
              "      <th>segmentsAirlineName</th>\n",
              "      <th>segmentsEquipmentDescription</th>\n",
              "      <th>...</th>\n",
              "      <th>flightDateDay_Tuesday</th>\n",
              "      <th>flightDateDay_Wednesday</th>\n",
              "      <th>searchDateDay_Monday</th>\n",
              "      <th>searchDateDay_Saturday</th>\n",
              "      <th>searchDateDay_Sunday</th>\n",
              "      <th>searchDateDay_Tuesday</th>\n",
              "      <th>airbus</th>\n",
              "      <th>boeing</th>\n",
              "      <th>boeing_airbus</th>\n",
              "      <th>other</th>\n",
              "    </tr>\n",
              "  </thead>\n",
              "  <tbody>\n",
              "    <tr>\n",
              "      <th>0</th>\n",
              "      <td>217.67</td>\n",
              "      <td>ATL</td>\n",
              "      <td>BOS</td>\n",
              "      <td>149</td>\n",
              "      <td>1</td>\n",
              "      <td>False</td>\n",
              "      <td>9</td>\n",
              "      <td>947.0</td>\n",
              "      <td>Delta</td>\n",
              "      <td>airbus</td>\n",
              "      <td>...</td>\n",
              "      <td>0</td>\n",
              "      <td>0</td>\n",
              "      <td>0</td>\n",
              "      <td>1</td>\n",
              "      <td>0</td>\n",
              "      <td>0</td>\n",
              "      <td>1</td>\n",
              "      <td>0</td>\n",
              "      <td>0</td>\n",
              "      <td>0</td>\n",
              "    </tr>\n",
              "    <tr>\n",
              "      <th>1</th>\n",
              "      <td>217.67</td>\n",
              "      <td>ATL</td>\n",
              "      <td>BOS</td>\n",
              "      <td>150</td>\n",
              "      <td>1</td>\n",
              "      <td>False</td>\n",
              "      <td>4</td>\n",
              "      <td>947.0</td>\n",
              "      <td>Delta</td>\n",
              "      <td>airbus</td>\n",
              "      <td>...</td>\n",
              "      <td>0</td>\n",
              "      <td>0</td>\n",
              "      <td>0</td>\n",
              "      <td>1</td>\n",
              "      <td>0</td>\n",
              "      <td>0</td>\n",
              "      <td>1</td>\n",
              "      <td>0</td>\n",
              "      <td>0</td>\n",
              "      <td>0</td>\n",
              "    </tr>\n",
              "    <tr>\n",
              "      <th>2</th>\n",
              "      <td>213.02</td>\n",
              "      <td>ATL</td>\n",
              "      <td>BOS</td>\n",
              "      <td>332</td>\n",
              "      <td>1</td>\n",
              "      <td>False</td>\n",
              "      <td>7</td>\n",
              "      <td>956.0</td>\n",
              "      <td>American Airlines||American Airlines</td>\n",
              "      <td>airbus</td>\n",
              "      <td>...</td>\n",
              "      <td>0</td>\n",
              "      <td>0</td>\n",
              "      <td>0</td>\n",
              "      <td>1</td>\n",
              "      <td>0</td>\n",
              "      <td>0</td>\n",
              "      <td>1</td>\n",
              "      <td>0</td>\n",
              "      <td>0</td>\n",
              "      <td>0</td>\n",
              "    </tr>\n",
              "    <tr>\n",
              "      <th>3</th>\n",
              "      <td>213.02</td>\n",
              "      <td>ATL</td>\n",
              "      <td>BOS</td>\n",
              "      <td>398</td>\n",
              "      <td>1</td>\n",
              "      <td>False</td>\n",
              "      <td>7</td>\n",
              "      <td>956.0</td>\n",
              "      <td>American Airlines||American Airlines</td>\n",
              "      <td>boeing_airbus</td>\n",
              "      <td>...</td>\n",
              "      <td>0</td>\n",
              "      <td>0</td>\n",
              "      <td>0</td>\n",
              "      <td>1</td>\n",
              "      <td>0</td>\n",
              "      <td>0</td>\n",
              "      <td>0</td>\n",
              "      <td>0</td>\n",
              "      <td>1</td>\n",
              "      <td>0</td>\n",
              "    </tr>\n",
              "    <tr>\n",
              "      <th>4</th>\n",
              "      <td>213.02</td>\n",
              "      <td>ATL</td>\n",
              "      <td>BOS</td>\n",
              "      <td>286</td>\n",
              "      <td>1</td>\n",
              "      <td>False</td>\n",
              "      <td>1</td>\n",
              "      <td>947.0</td>\n",
              "      <td>United||United</td>\n",
              "      <td>boeing_airbus</td>\n",
              "      <td>...</td>\n",
              "      <td>0</td>\n",
              "      <td>0</td>\n",
              "      <td>0</td>\n",
              "      <td>1</td>\n",
              "      <td>0</td>\n",
              "      <td>0</td>\n",
              "      <td>0</td>\n",
              "      <td>0</td>\n",
              "      <td>1</td>\n",
              "      <td>0</td>\n",
              "    </tr>\n",
              "    <tr>\n",
              "      <th>...</th>\n",
              "      <td>...</td>\n",
              "      <td>...</td>\n",
              "      <td>...</td>\n",
              "      <td>...</td>\n",
              "      <td>...</td>\n",
              "      <td>...</td>\n",
              "      <td>...</td>\n",
              "      <td>...</td>\n",
              "      <td>...</td>\n",
              "      <td>...</td>\n",
              "      <td>...</td>\n",
              "      <td>...</td>\n",
              "      <td>...</td>\n",
              "      <td>...</td>\n",
              "      <td>...</td>\n",
              "      <td>...</td>\n",
              "      <td>...</td>\n",
              "      <td>...</td>\n",
              "      <td>...</td>\n",
              "      <td>...</td>\n",
              "      <td>...</td>\n",
              "    </tr>\n",
              "    <tr>\n",
              "      <th>757380</th>\n",
              "      <td>96.74</td>\n",
              "      <td>ORD</td>\n",
              "      <td>LGA</td>\n",
              "      <td>123</td>\n",
              "      <td>49</td>\n",
              "      <td>False</td>\n",
              "      <td>7</td>\n",
              "      <td>720.0</td>\n",
              "      <td>JetBlue Airways</td>\n",
              "      <td>airbus</td>\n",
              "      <td>...</td>\n",
              "      <td>1</td>\n",
              "      <td>0</td>\n",
              "      <td>0</td>\n",
              "      <td>0</td>\n",
              "      <td>0</td>\n",
              "      <td>1</td>\n",
              "      <td>1</td>\n",
              "      <td>0</td>\n",
              "      <td>0</td>\n",
              "      <td>0</td>\n",
              "    </tr>\n",
              "    <tr>\n",
              "      <th>757381</th>\n",
              "      <td>96.74</td>\n",
              "      <td>ORD</td>\n",
              "      <td>LGA</td>\n",
              "      <td>123</td>\n",
              "      <td>49</td>\n",
              "      <td>False</td>\n",
              "      <td>7</td>\n",
              "      <td>720.0</td>\n",
              "      <td>JetBlue Airways</td>\n",
              "      <td>boeing</td>\n",
              "      <td>...</td>\n",
              "      <td>1</td>\n",
              "      <td>0</td>\n",
              "      <td>0</td>\n",
              "      <td>0</td>\n",
              "      <td>0</td>\n",
              "      <td>1</td>\n",
              "      <td>0</td>\n",
              "      <td>1</td>\n",
              "      <td>0</td>\n",
              "      <td>0</td>\n",
              "    </tr>\n",
              "    <tr>\n",
              "      <th>757382</th>\n",
              "      <td>96.74</td>\n",
              "      <td>ORD</td>\n",
              "      <td>LGA</td>\n",
              "      <td>123</td>\n",
              "      <td>49</td>\n",
              "      <td>False</td>\n",
              "      <td>7</td>\n",
              "      <td>720.0</td>\n",
              "      <td>JetBlue Airways</td>\n",
              "      <td>boeing</td>\n",
              "      <td>...</td>\n",
              "      <td>1</td>\n",
              "      <td>0</td>\n",
              "      <td>0</td>\n",
              "      <td>0</td>\n",
              "      <td>0</td>\n",
              "      <td>1</td>\n",
              "      <td>0</td>\n",
              "      <td>1</td>\n",
              "      <td>0</td>\n",
              "      <td>0</td>\n",
              "    </tr>\n",
              "    <tr>\n",
              "      <th>757383</th>\n",
              "      <td>96.74</td>\n",
              "      <td>ORD</td>\n",
              "      <td>LGA</td>\n",
              "      <td>138</td>\n",
              "      <td>49</td>\n",
              "      <td>False</td>\n",
              "      <td>9</td>\n",
              "      <td>720.0</td>\n",
              "      <td>Delta</td>\n",
              "      <td>airbus</td>\n",
              "      <td>...</td>\n",
              "      <td>1</td>\n",
              "      <td>0</td>\n",
              "      <td>0</td>\n",
              "      <td>0</td>\n",
              "      <td>0</td>\n",
              "      <td>1</td>\n",
              "      <td>1</td>\n",
              "      <td>0</td>\n",
              "      <td>0</td>\n",
              "      <td>0</td>\n",
              "    </tr>\n",
              "    <tr>\n",
              "      <th>757384</th>\n",
              "      <td>120.00</td>\n",
              "      <td>ORD</td>\n",
              "      <td>LGA</td>\n",
              "      <td>586</td>\n",
              "      <td>49</td>\n",
              "      <td>False</td>\n",
              "      <td>7</td>\n",
              "      <td>1047.0</td>\n",
              "      <td>JetBlue Airways||JetBlue Airways</td>\n",
              "      <td>other</td>\n",
              "      <td>...</td>\n",
              "      <td>1</td>\n",
              "      <td>0</td>\n",
              "      <td>0</td>\n",
              "      <td>0</td>\n",
              "      <td>0</td>\n",
              "      <td>1</td>\n",
              "      <td>0</td>\n",
              "      <td>0</td>\n",
              "      <td>0</td>\n",
              "      <td>1</td>\n",
              "    </tr>\n",
              "  </tbody>\n",
              "</table>\n",
              "<p>698528 rows × 33 columns</p>\n",
              "</div>"
            ],
            "text/plain": [
              "        baseFare startingAirport destinationAirport  travelDurationMinutes  \\\n",
              "0         217.67             ATL                BOS                    149   \n",
              "1         217.67             ATL                BOS                    150   \n",
              "2         213.02             ATL                BOS                    332   \n",
              "3         213.02             ATL                BOS                    398   \n",
              "4         213.02             ATL                BOS                    286   \n",
              "...          ...             ...                ...                    ...   \n",
              "757380     96.74             ORD                LGA                    123   \n",
              "757381     96.74             ORD                LGA                    123   \n",
              "757382     96.74             ORD                LGA                    123   \n",
              "757383     96.74             ORD                LGA                    138   \n",
              "757384    120.00             ORD                LGA                    586   \n",
              "\n",
              "        daysLeft  isBasicEconomy  seatsRemaining  totalTravelDistance  \\\n",
              "0              1           False               9                947.0   \n",
              "1              1           False               4                947.0   \n",
              "2              1           False               7                956.0   \n",
              "3              1           False               7                956.0   \n",
              "4              1           False               1                947.0   \n",
              "...          ...             ...             ...                  ...   \n",
              "757380        49           False               7                720.0   \n",
              "757381        49           False               7                720.0   \n",
              "757382        49           False               7                720.0   \n",
              "757383        49           False               9                720.0   \n",
              "757384        49           False               7               1047.0   \n",
              "\n",
              "                         segmentsAirlineName segmentsEquipmentDescription  \\\n",
              "0                                      Delta                       airbus   \n",
              "1                                      Delta                       airbus   \n",
              "2       American Airlines||American Airlines                       airbus   \n",
              "3       American Airlines||American Airlines                boeing_airbus   \n",
              "4                             United||United                boeing_airbus   \n",
              "...                                      ...                          ...   \n",
              "757380                       JetBlue Airways                       airbus   \n",
              "757381                       JetBlue Airways                       boeing   \n",
              "757382                       JetBlue Airways                       boeing   \n",
              "757383                                 Delta                       airbus   \n",
              "757384      JetBlue Airways||JetBlue Airways                        other   \n",
              "\n",
              "        ... flightDateDay_Tuesday flightDateDay_Wednesday  \\\n",
              "0       ...                     0                       0   \n",
              "1       ...                     0                       0   \n",
              "2       ...                     0                       0   \n",
              "3       ...                     0                       0   \n",
              "4       ...                     0                       0   \n",
              "...     ...                   ...                     ...   \n",
              "757380  ...                     1                       0   \n",
              "757381  ...                     1                       0   \n",
              "757382  ...                     1                       0   \n",
              "757383  ...                     1                       0   \n",
              "757384  ...                     1                       0   \n",
              "\n",
              "        searchDateDay_Monday  searchDateDay_Saturday searchDateDay_Sunday  \\\n",
              "0                          0                       1                    0   \n",
              "1                          0                       1                    0   \n",
              "2                          0                       1                    0   \n",
              "3                          0                       1                    0   \n",
              "4                          0                       1                    0   \n",
              "...                      ...                     ...                  ...   \n",
              "757380                     0                       0                    0   \n",
              "757381                     0                       0                    0   \n",
              "757382                     0                       0                    0   \n",
              "757383                     0                       0                    0   \n",
              "757384                     0                       0                    0   \n",
              "\n",
              "       searchDateDay_Tuesday airbus  boeing  boeing_airbus  other  \n",
              "0                          0      1       0              0      0  \n",
              "1                          0      1       0              0      0  \n",
              "2                          0      1       0              0      0  \n",
              "3                          0      0       0              1      0  \n",
              "4                          0      0       0              1      0  \n",
              "...                      ...    ...     ...            ...    ...  \n",
              "757380                     1      1       0              0      0  \n",
              "757381                     1      0       1              0      0  \n",
              "757382                     1      0       1              0      0  \n",
              "757383                     1      1       0              0      0  \n",
              "757384                     1      0       0              0      1  \n",
              "\n",
              "[698528 rows x 33 columns]"
            ]
          },
          "execution_count": 52,
          "metadata": {},
          "output_type": "execute_result"
        }
      ],
      "source": [
        "df_encoded = one_hot_encode_and_convert_to_int_aircraft(df_new, 'segmentsEquipmentDescription')\n",
        "df_new = df_encoded\n",
        "\n",
        "# Print the updated DataFrame\n",
        "df_new"
      ]
    },
    {
      "attachments": {},
      "cell_type": "markdown",
      "metadata": {},
      "source": [
        "## Encoding AirlineNames"
      ]
    },
    {
      "cell_type": "code",
      "execution_count": 54,
      "metadata": {},
      "outputs": [
        {
          "name": "stdout",
          "output_type": "stream",
          "text": [
            "American Airlines||American Airlines    136682\n",
            "Delta||Delta                            111520\n",
            "United||United                          101352\n",
            "American Airlines                        68751\n",
            "Delta                                    45534\n",
            "United                                   43110\n",
            "JetBlue Airways                          33870\n",
            "JetBlue Airways||JetBlue Airways         24106\n",
            "Alaska Airlines||Alaska Airlines         18394\n",
            "Delta||United                            13775\n",
            "Name: segmentsAirlineName, dtype: int64\n"
          ]
        }
      ],
      "source": [
        "unique_segmentsAirlineName = df_new['segmentsAirlineName'].value_counts()\n",
        "print(unique_segmentsAirlineName.head(10))"
      ]
    },
    {
      "cell_type": "code",
      "execution_count": 98,
      "metadata": {},
      "outputs": [],
      "source": [
        "categories = ['American Airlines', 'Delta', 'JetBlue Airways', 'United', 'Alaska Airlines']\n",
        "\n",
        "# Hinzufügen der Spalten mit 0-Werten\n",
        "#for category in categories:\n",
        "#    df_new[category] = 0\n",
        "\n",
        "for category in categories:\n",
        "    df_new[category] = df_new['segmentsAirlineName'].str.contains(category, case=False).astype(int)\n"
      ]
    },
    {
      "cell_type": "code",
      "execution_count": 99,
      "metadata": {},
      "outputs": [
        {
          "data": {
            "text/html": [
              "<div>\n",
              "<style scoped>\n",
              "    .dataframe tbody tr th:only-of-type {\n",
              "        vertical-align: middle;\n",
              "    }\n",
              "\n",
              "    .dataframe tbody tr th {\n",
              "        vertical-align: top;\n",
              "    }\n",
              "\n",
              "    .dataframe thead th {\n",
              "        text-align: right;\n",
              "    }\n",
              "</style>\n",
              "<table border=\"1\" class=\"dataframe\">\n",
              "  <thead>\n",
              "    <tr style=\"text-align: right;\">\n",
              "      <th></th>\n",
              "      <th>baseFare</th>\n",
              "      <th>startingAirport</th>\n",
              "      <th>destinationAirport</th>\n",
              "      <th>travelDurationMinutes</th>\n",
              "      <th>daysLeft</th>\n",
              "      <th>isBasicEconomy</th>\n",
              "      <th>seatsRemaining</th>\n",
              "      <th>totalTravelDistance</th>\n",
              "      <th>segmentsAirlineName</th>\n",
              "      <th>segmentsEquipmentDescription</th>\n",
              "      <th>...</th>\n",
              "      <th>depatureTime</th>\n",
              "      <th>flightDay</th>\n",
              "      <th>flightMonth</th>\n",
              "      <th>searchDay</th>\n",
              "      <th>totalStops</th>\n",
              "      <th>American Airlines</th>\n",
              "      <th>Delta</th>\n",
              "      <th>JetBlue Airways</th>\n",
              "      <th>United</th>\n",
              "      <th>Alaska Airlines</th>\n",
              "    </tr>\n",
              "  </thead>\n",
              "  <tbody>\n",
              "    <tr>\n",
              "      <th>113</th>\n",
              "      <td>304.18</td>\n",
              "      <td>ATL</td>\n",
              "      <td>IAD</td>\n",
              "      <td>689</td>\n",
              "      <td>1</td>\n",
              "      <td>False</td>\n",
              "      <td>1</td>\n",
              "      <td>1078.0</td>\n",
              "      <td>Delta||Delta||Delta</td>\n",
              "      <td>Airbus A321||Embraer 175||Embraer 175</td>\n",
              "      <td>...</td>\n",
              "      <td>23.20</td>\n",
              "      <td>17</td>\n",
              "      <td>4</td>\n",
              "      <td>16</td>\n",
              "      <td>2</td>\n",
              "      <td>0</td>\n",
              "      <td>1</td>\n",
              "      <td>0</td>\n",
              "      <td>0</td>\n",
              "      <td>0</td>\n",
              "    </tr>\n",
              "    <tr>\n",
              "      <th>124</th>\n",
              "      <td>658.55</td>\n",
              "      <td>ATL</td>\n",
              "      <td>IAD</td>\n",
              "      <td>742</td>\n",
              "      <td>1</td>\n",
              "      <td>False</td>\n",
              "      <td>2</td>\n",
              "      <td>1224.0</td>\n",
              "      <td>Delta||Cape Air||Cape Air||United</td>\n",
              "      <td>Airbus A320||Tecnam P2012 Traveler||Tecnam P20...</td>\n",
              "      <td>...</td>\n",
              "      <td>8.55</td>\n",
              "      <td>17</td>\n",
              "      <td>4</td>\n",
              "      <td>16</td>\n",
              "      <td>3</td>\n",
              "      <td>0</td>\n",
              "      <td>1</td>\n",
              "      <td>0</td>\n",
              "      <td>1</td>\n",
              "      <td>0</td>\n",
              "    </tr>\n",
              "    <tr>\n",
              "      <th>125</th>\n",
              "      <td>730.18</td>\n",
              "      <td>ATL</td>\n",
              "      <td>IAD</td>\n",
              "      <td>441</td>\n",
              "      <td>1</td>\n",
              "      <td>False</td>\n",
              "      <td>2</td>\n",
              "      <td>1224.0</td>\n",
              "      <td>Delta||Cape Air||Cape Air||United</td>\n",
              "      <td>Boeing 737-800||Tecnam P2012 Traveler||Tecnam ...</td>\n",
              "      <td>...</td>\n",
              "      <td>13.56</td>\n",
              "      <td>17</td>\n",
              "      <td>4</td>\n",
              "      <td>16</td>\n",
              "      <td>3</td>\n",
              "      <td>0</td>\n",
              "      <td>1</td>\n",
              "      <td>0</td>\n",
              "      <td>1</td>\n",
              "      <td>0</td>\n",
              "    </tr>\n",
              "    <tr>\n",
              "      <th>133</th>\n",
              "      <td>510.70</td>\n",
              "      <td>ATL</td>\n",
              "      <td>JFK</td>\n",
              "      <td>540</td>\n",
              "      <td>1</td>\n",
              "      <td>False</td>\n",
              "      <td>4</td>\n",
              "      <td>1132.0</td>\n",
              "      <td>United||United||Delta</td>\n",
              "      <td>Airbus A319||Boeing 737-800||Embraer 175</td>\n",
              "      <td>...</td>\n",
              "      <td>5.30</td>\n",
              "      <td>17</td>\n",
              "      <td>4</td>\n",
              "      <td>16</td>\n",
              "      <td>2</td>\n",
              "      <td>0</td>\n",
              "      <td>1</td>\n",
              "      <td>0</td>\n",
              "      <td>1</td>\n",
              "      <td>0</td>\n",
              "    </tr>\n",
              "    <tr>\n",
              "      <th>137</th>\n",
              "      <td>195.72</td>\n",
              "      <td>ATL</td>\n",
              "      <td>LAX</td>\n",
              "      <td>792</td>\n",
              "      <td>1</td>\n",
              "      <td>False</td>\n",
              "      <td>4</td>\n",
              "      <td>1797.0</td>\n",
              "      <td>Frontier Airlines||Frontier Airlines||Frontier...</td>\n",
              "      <td>||||</td>\n",
              "      <td>...</td>\n",
              "      <td>22.59</td>\n",
              "      <td>17</td>\n",
              "      <td>4</td>\n",
              "      <td>16</td>\n",
              "      <td>2</td>\n",
              "      <td>0</td>\n",
              "      <td>0</td>\n",
              "      <td>0</td>\n",
              "      <td>0</td>\n",
              "      <td>0</td>\n",
              "    </tr>\n",
              "    <tr>\n",
              "      <th>...</th>\n",
              "      <td>...</td>\n",
              "      <td>...</td>\n",
              "      <td>...</td>\n",
              "      <td>...</td>\n",
              "      <td>...</td>\n",
              "      <td>...</td>\n",
              "      <td>...</td>\n",
              "      <td>...</td>\n",
              "      <td>...</td>\n",
              "      <td>...</td>\n",
              "      <td>...</td>\n",
              "      <td>...</td>\n",
              "      <td>...</td>\n",
              "      <td>...</td>\n",
              "      <td>...</td>\n",
              "      <td>...</td>\n",
              "      <td>...</td>\n",
              "      <td>...</td>\n",
              "      <td>...</td>\n",
              "      <td>...</td>\n",
              "      <td>...</td>\n",
              "    </tr>\n",
              "    <tr>\n",
              "      <th>757270</th>\n",
              "      <td>204.65</td>\n",
              "      <td>ORD</td>\n",
              "      <td>IAD</td>\n",
              "      <td>768</td>\n",
              "      <td>49</td>\n",
              "      <td>False</td>\n",
              "      <td>4</td>\n",
              "      <td>1097.0</td>\n",
              "      <td>American Airlines||American Airlines||American...</td>\n",
              "      <td>Boeing 737-800||Airbus A321||Canadair Regional...</td>\n",
              "      <td>...</td>\n",
              "      <td>20.41</td>\n",
              "      <td>7</td>\n",
              "      <td>6</td>\n",
              "      <td>19</td>\n",
              "      <td>2</td>\n",
              "      <td>1</td>\n",
              "      <td>0</td>\n",
              "      <td>0</td>\n",
              "      <td>0</td>\n",
              "      <td>0</td>\n",
              "    </tr>\n",
              "    <tr>\n",
              "      <th>757271</th>\n",
              "      <td>206.51</td>\n",
              "      <td>ORD</td>\n",
              "      <td>IAD</td>\n",
              "      <td>752</td>\n",
              "      <td>49</td>\n",
              "      <td>False</td>\n",
              "      <td>7</td>\n",
              "      <td>1232.0</td>\n",
              "      <td>American Airlines||American Airlines||American...</td>\n",
              "      <td>Canadian Regional Jet 700||Airbus A320||Boeing...</td>\n",
              "      <td>...</td>\n",
              "      <td>8.20</td>\n",
              "      <td>7</td>\n",
              "      <td>6</td>\n",
              "      <td>19</td>\n",
              "      <td>2</td>\n",
              "      <td>1</td>\n",
              "      <td>0</td>\n",
              "      <td>0</td>\n",
              "      <td>0</td>\n",
              "      <td>0</td>\n",
              "    </tr>\n",
              "    <tr>\n",
              "      <th>757285</th>\n",
              "      <td>290.24</td>\n",
              "      <td>ORD</td>\n",
              "      <td>IAD</td>\n",
              "      <td>485</td>\n",
              "      <td>49</td>\n",
              "      <td>False</td>\n",
              "      <td>7</td>\n",
              "      <td>1344.0</td>\n",
              "      <td>American Airlines||American Airlines||American...</td>\n",
              "      <td>Airbus A319||Airbus A320||Boeing 737-800</td>\n",
              "      <td>...</td>\n",
              "      <td>15.15</td>\n",
              "      <td>7</td>\n",
              "      <td>6</td>\n",
              "      <td>19</td>\n",
              "      <td>2</td>\n",
              "      <td>1</td>\n",
              "      <td>0</td>\n",
              "      <td>0</td>\n",
              "      <td>0</td>\n",
              "      <td>0</td>\n",
              "    </tr>\n",
              "    <tr>\n",
              "      <th>757289</th>\n",
              "      <td>307.91</td>\n",
              "      <td>ORD</td>\n",
              "      <td>IAD</td>\n",
              "      <td>540</td>\n",
              "      <td>49</td>\n",
              "      <td>False</td>\n",
              "      <td>7</td>\n",
              "      <td>1250.0</td>\n",
              "      <td>American Airlines||American Airlines||American...</td>\n",
              "      <td>Embraer 175||Airbus A319||Boeing 737-800</td>\n",
              "      <td>...</td>\n",
              "      <td>14.20</td>\n",
              "      <td>7</td>\n",
              "      <td>6</td>\n",
              "      <td>19</td>\n",
              "      <td>2</td>\n",
              "      <td>1</td>\n",
              "      <td>0</td>\n",
              "      <td>0</td>\n",
              "      <td>0</td>\n",
              "      <td>0</td>\n",
              "    </tr>\n",
              "    <tr>\n",
              "      <th>757292</th>\n",
              "      <td>363.78</td>\n",
              "      <td>ORD</td>\n",
              "      <td>IAD</td>\n",
              "      <td>511</td>\n",
              "      <td>49</td>\n",
              "      <td>False</td>\n",
              "      <td>1</td>\n",
              "      <td>1064.0</td>\n",
              "      <td>Cape Air||Cape Air||Delta||Delta</td>\n",
              "      <td>Tecnam P2012 Traveler||Tecnam P2012 Traveler||...</td>\n",
              "      <td>...</td>\n",
              "      <td>13.20</td>\n",
              "      <td>7</td>\n",
              "      <td>6</td>\n",
              "      <td>19</td>\n",
              "      <td>3</td>\n",
              "      <td>0</td>\n",
              "      <td>1</td>\n",
              "      <td>0</td>\n",
              "      <td>0</td>\n",
              "      <td>0</td>\n",
              "    </tr>\n",
              "  </tbody>\n",
              "</table>\n",
              "<p>53284 rows × 23 columns</p>\n",
              "</div>"
            ],
            "text/plain": [
              "        baseFare startingAirport destinationAirport  travelDurationMinutes  \\\n",
              "113       304.18             ATL                IAD                    689   \n",
              "124       658.55             ATL                IAD                    742   \n",
              "125       730.18             ATL                IAD                    441   \n",
              "133       510.70             ATL                JFK                    540   \n",
              "137       195.72             ATL                LAX                    792   \n",
              "...          ...             ...                ...                    ...   \n",
              "757270    204.65             ORD                IAD                    768   \n",
              "757271    206.51             ORD                IAD                    752   \n",
              "757285    290.24             ORD                IAD                    485   \n",
              "757289    307.91             ORD                IAD                    540   \n",
              "757292    363.78             ORD                IAD                    511   \n",
              "\n",
              "        daysLeft  isBasicEconomy  seatsRemaining  totalTravelDistance  \\\n",
              "113            1           False               1               1078.0   \n",
              "124            1           False               2               1224.0   \n",
              "125            1           False               2               1224.0   \n",
              "133            1           False               4               1132.0   \n",
              "137            1           False               4               1797.0   \n",
              "...          ...             ...             ...                  ...   \n",
              "757270        49           False               4               1097.0   \n",
              "757271        49           False               7               1232.0   \n",
              "757285        49           False               7               1344.0   \n",
              "757289        49           False               7               1250.0   \n",
              "757292        49           False               1               1064.0   \n",
              "\n",
              "                                      segmentsAirlineName  \\\n",
              "113                                   Delta||Delta||Delta   \n",
              "124                     Delta||Cape Air||Cape Air||United   \n",
              "125                     Delta||Cape Air||Cape Air||United   \n",
              "133                                 United||United||Delta   \n",
              "137     Frontier Airlines||Frontier Airlines||Frontier...   \n",
              "...                                                   ...   \n",
              "757270  American Airlines||American Airlines||American...   \n",
              "757271  American Airlines||American Airlines||American...   \n",
              "757285  American Airlines||American Airlines||American...   \n",
              "757289  American Airlines||American Airlines||American...   \n",
              "757292                   Cape Air||Cape Air||Delta||Delta   \n",
              "\n",
              "                             segmentsEquipmentDescription  ... depatureTime  \\\n",
              "113                 Airbus A321||Embraer 175||Embraer 175  ...        23.20   \n",
              "124     Airbus A320||Tecnam P2012 Traveler||Tecnam P20...  ...         8.55   \n",
              "125     Boeing 737-800||Tecnam P2012 Traveler||Tecnam ...  ...        13.56   \n",
              "133              Airbus A319||Boeing 737-800||Embraer 175  ...         5.30   \n",
              "137                                                  ||||  ...        22.59   \n",
              "...                                                   ...  ...          ...   \n",
              "757270  Boeing 737-800||Airbus A321||Canadair Regional...  ...        20.41   \n",
              "757271  Canadian Regional Jet 700||Airbus A320||Boeing...  ...         8.20   \n",
              "757285           Airbus A319||Airbus A320||Boeing 737-800  ...        15.15   \n",
              "757289           Embraer 175||Airbus A319||Boeing 737-800  ...        14.20   \n",
              "757292  Tecnam P2012 Traveler||Tecnam P2012 Traveler||...  ...        13.20   \n",
              "\n",
              "       flightDay  flightMonth  searchDay totalStops American Airlines Delta  \\\n",
              "113           17            4         16          2                 0     1   \n",
              "124           17            4         16          3                 0     1   \n",
              "125           17            4         16          3                 0     1   \n",
              "133           17            4         16          2                 0     1   \n",
              "137           17            4         16          2                 0     0   \n",
              "...          ...          ...        ...        ...               ...   ...   \n",
              "757270         7            6         19          2                 1     0   \n",
              "757271         7            6         19          2                 1     0   \n",
              "757285         7            6         19          2                 1     0   \n",
              "757289         7            6         19          2                 1     0   \n",
              "757292         7            6         19          3                 0     1   \n",
              "\n",
              "        JetBlue Airways  United  Alaska Airlines  \n",
              "113                   0       0                0  \n",
              "124                   0       1                0  \n",
              "125                   0       1                0  \n",
              "133                   0       1                0  \n",
              "137                   0       0                0  \n",
              "...                 ...     ...              ...  \n",
              "757270                0       0                0  \n",
              "757271                0       0                0  \n",
              "757285                0       0                0  \n",
              "757289                0       0                0  \n",
              "757292                0       0                0  \n",
              "\n",
              "[53284 rows x 23 columns]"
            ]
          },
          "execution_count": 99,
          "metadata": {},
          "output_type": "execute_result"
        }
      ],
      "source": [
        "if debug:\n",
        "    filtered_df = df_new[df_new['totalStops'] > 1]\n",
        "    filtered_df"
      ]
    },
    {
      "attachments": {},
      "cell_type": "markdown",
      "metadata": {},
      "source": [
        "## Encoding Airports"
      ]
    },
    {
      "cell_type": "code",
      "execution_count": null,
      "metadata": {},
      "outputs": [],
      "source": [
        "unique_startingAirpot = df_new['startingAirport'].value_counts()\n",
        "print(unique_startingAirpot)"
      ]
    },
    {
      "cell_type": "code",
      "execution_count": null,
      "metadata": {},
      "outputs": [],
      "source": [
        "unique_destinationAirport = df_new['destinationAirport'].value_counts()\n",
        "print(unique_destinationAirport)"
      ]
    },
    {
      "cell_type": "code",
      "execution_count": null,
      "metadata": {},
      "outputs": [],
      "source": [
        "def add_coordinates(df, airport_column, latitude_column, longitude_column):\n",
        "    coordinates = {\n",
        "        'LAX': (33.9425, 118.4072),\n",
        "        'LGA': (40.7769, 73.8731),\n",
        "        'BOS': (42.3656, 71.0096),\n",
        "        'SFO': (37.6189, 122.3750),\n",
        "        'CLT': (35.2140, 80.9431),\n",
        "        'ORD': (41.9786, 87.9047),\n",
        "        'MIA': (25.7933, 80.2906),\n",
        "        'DFW': (32.8998, 97.0403),\n",
        "        'ATL': (33.6407, 84.4277),\n",
        "        'DEN': (39.8561, 104.6737),\n",
        "        'PHL': (39.8719, 75.2411),\n",
        "        'DTW': (42.2125, 83.3534),\n",
        "        'JFK': (40.6413, 73.7781),\n",
        "        'EWR': (40.6925, 74.1687),\n",
        "        'IAD': (38.9445, 77.4558),\n",
        "        'OAK': (37.7213, 122.2216)\n",
        "    }\n",
        "\n",
        "    df[latitude_column], df[longitude_column] = zip(*df[airport_column].map(coordinates.get))\n",
        "    return df\n",
        "\n",
        "\n",
        "# Funktionsaufruf zum Hinzufügen der Koordinaten\n",
        "df_new = add_coordinates(df_new, 'startingAirport', 'startingAirport_Latitude', 'startingAirport_Longitude')\n",
        "\n",
        "# Funktionsaufruf zum Hinzufügen der Koordinaten\n",
        "df_new = add_coordinates(df_new, 'destinationAirport', 'destinationAirport_Latitude', 'destinationAirport_Longitude')"
      ]
    },
    {
      "cell_type": "code",
      "execution_count": null,
      "metadata": {},
      "outputs": [],
      "source": [
        "unique_segmentsEquipmentDescription = df_new['segmentsEquipmentDescription'].value_counts()\n",
        "pd.set_option('display.max_rows', None)\n",
        "unique_segmentsEquipmentDescription"
      ]
    },
    {
      "cell_type": "code",
      "execution_count": null,
      "metadata": {},
      "outputs": [],
      "source": [
        "random_sample['segmentsAirlineName']=labelencoder.fit_transform(random_sample['segmentsAirlineName'])\n",
        "random_sample['segmentsEquipmentDescription']=labelencoder.fit_transform(random_sample['segmentsEquipmentDescription'])\n",
        "random_sample['startingAirport']=labelencoder.fit_transform(random_sample['startingAirport'])\n",
        "random_sample['destinationAirport']=labelencoder.fit_transform(random_sample['destinationAirport'])\n",
        "random_sample['flightDay']=labelencoder.fit_transform(random_sample['flightDay'])\n",
        "random_sample['searchDay']=labelencoder.fit_transform(random_sample['searchDay'])\n",
        "random_sample['flightMonth']=labelencoder.fit_transform(random_sample['flightMonth'])\n"
      ]
    },
    {
      "cell_type": "code",
      "execution_count": null,
      "metadata": {},
      "outputs": [],
      "source": [
        "print(df_new['searchDateDay'].unique())\n",
        "print(df_new['searchDateDay'].value_counts())\n",
        "print(df_new['flightDateDay'].unique())\n",
        "print(df_new['flightDateDay'].value_counts())"
      ]
    },
    {
      "attachments": {},
      "cell_type": "markdown",
      "metadata": {
        "id": "QFONhyGjkjQn"
      },
      "source": [
        " Eine hohe Korrelation zwischen zwei oder mehreren Features kann auf Multikollinearität hinweisen. Folgend untersuchen wir die Matrix auf die Matrix überprüfen und nach starken positiven oder negativen Korrelationen suchen."
      ]
    },
    {
      "cell_type": "code",
      "execution_count": null,
      "metadata": {},
      "outputs": [],
      "source": [
        "#corr_matrix.isna().sum()\n",
        "random_sample.isna().sum()"
      ]
    },
    {
      "cell_type": "code",
      "execution_count": null,
      "metadata": {
        "colab": {
          "base_uri": "https://localhost:8080/"
        },
        "id": "QD_NWsmu1Fic",
        "outputId": "a4c2f350-6906-4f9f-a1f2-2961d2c1fd5b"
      },
      "outputs": [],
      "source": [
        "# Korrelationsmatrix erstellen\n",
        "corr_matrix = random_sample.corr()\n",
        "\n",
        "# Alle Features in der Korrelationsmatrix anzeigen\n",
        "pd.set_option('display.max_columns', None)\n",
        "pd.set_option('display.max_rows', None)\n",
        "print(corr_matrix)"
      ]
    },
    {
      "cell_type": "code",
      "execution_count": null,
      "metadata": {
        "colab": {
          "base_uri": "https://localhost:8080/",
          "height": 1000
        },
        "id": "J3t2fkfnkWhY",
        "outputId": "6eda8fc6-8de7-4de3-e3be-e87548e48764"
      },
      "outputs": [],
      "source": [
        "# Korrelationsmatrix erstellen\n",
        "#corr_matrix = df.corr()\n",
        "\n",
        "# Korrelationsmatrix anzeigen\n",
        "#print(corr_matrix)\n",
        "\n",
        "# Heatmap der Korrelationsmatrix erstellen\n",
        "#plt.figure(figsize=(10, 8))\n",
        "plt.figure(figsize=(19, 19))\n",
        "#plt.figure()\n",
        "sns.heatmap(corr_matrix, annot=True, cmap=\"coolwarm\")\n",
        "\n",
        "# Plot anzeigen\n",
        "plt.show()"
      ]
    },
    {
      "attachments": {},
      "cell_type": "markdown",
      "metadata": {},
      "source": [
        "Aussortieren von Feature, da die correlation kleiner als 0,001 ist.\n",
        "\n",
        "Zwischen 'baseFare' und 'flightMonth' ist eine Korrelation von 0,00027.\n",
        "\n",
        "Zwischen 'baseFare' und 'searchDay' ist eine Korrelation von 0,0014.\n",
        "\n",
        "Beide Werte werden folgend nicht mehr betrachtet."
      ]
    },
    {
      "cell_type": "code",
      "execution_count": null,
      "metadata": {},
      "outputs": [],
      "source": [
        "random_sample= random_sample.drop('flightMonth', axis=1)\n",
        "random_sample= random_sample.drop('searchDay', axis=1)\n",
        "print(random_sample.head(10))"
      ]
    },
    {
      "cell_type": "code",
      "execution_count": null,
      "metadata": {
        "colab": {
          "base_uri": "https://localhost:8080/",
          "height": 398
        },
        "id": "2LUbKGtrmJrF",
        "outputId": "1beb0cd6-0eb3-4b4c-86fb-092a09f55fc6"
      },
      "outputs": [],
      "source": [
        "import pandas as pd\n",
        "from statsmodels.stats.outliers_influence import variance_inflation_factor\n",
        "\n",
        "# Assuming you have a DataFrame called 'random_samples'\n",
        "\n",
        "# Create a DataFrame to store the VIF values\n",
        "vif = pd.DataFrame()\n",
        "vif[\"Feature\"] = random_sample.columns\n",
        "vif[\"VIF\"] = [variance_inflation_factor(random_sample.values, i) for i in range(random_sample.shape[1])]\n",
        "\n",
        "# Display the VIF values\n",
        "print(vif)\n",
        "\n"
      ]
    },
    {
      "cell_type": "code",
      "execution_count": null,
      "metadata": {
        "id": "3drQNK_pMO7h"
      },
      "outputs": [],
      "source": [
        "desired_columns = ['startingAirport', 'destinationAirport', 'fareBasisCode', 'travelDurationMinutes',  'isBasicEconomy', 'isRefundable', \n",
        "                   'isNonStop', 'baseFare', 'seatsRemaining', 'totalTravelDistance', 'segmentsAirlineName', 'segmentsEquipmentDescription','flightDate', \n",
        "                   'arrivalTime', 'depatureTime' ]\n",
        "\n",
        "# creat new dataframe with selected columns\n",
        "df_new = df[desired_columns].copy()\n",
        "df=df_new"
      ]
    },
    {
      "cell_type": "code",
      "execution_count": null,
      "metadata": {
        "colab": {
          "base_uri": "https://localhost:8080/"
        },
        "id": "-8USZGdKw8se",
        "outputId": "22c7ef6b-b63a-4c95-c1e0-c8579004f65f"
      },
      "outputs": [],
      "source": [
        "df_new.info()\n",
        "df_new.head(5)\n",
        "df_new.isnull().sum()\n",
        "df_new.shape"
      ]
    },
    {
      "attachments": {},
      "cell_type": "markdown",
      "metadata": {
        "id": "EWl5uFD1xG8c"
      },
      "source": [
        "## 5. Exploratory Data Analysis "
      ]
    },
    {
      "cell_type": "code",
      "execution_count": null,
      "metadata": {},
      "outputs": [],
      "source": [
        "sns.boxplot(data=df, y = 'baseFare')\n",
        "plt.title(\"Price distribution\");"
      ]
    },
    {
      "cell_type": "code",
      "execution_count": null,
      "metadata": {
        "colab": {
          "base_uri": "https://localhost:8080/"
        },
        "id": "UwePW3bvxJTE",
        "outputId": "853ee6ac-3c3d-44f4-f030-cf4b6b2943d7"
      },
      "outputs": [],
      "source": [
        "# check correlation beetween \n",
        "# Select the desired rows\n",
        "selected_rows = df[['baseFare', 'flightDate', 'searchDate', 'totalTravelDistance', 'travelDurationMinutes', 'daysLeft']]\n",
        "\n",
        "# Calculate the correlation between the selected rows\n",
        "correlation = selected_rows.corr()\n",
        "\n",
        "# Print the correlation matrix\n",
        "print(correlation)"
      ]
    },
    {
      "cell_type": "code",
      "execution_count": null,
      "metadata": {
        "colab": {
          "base_uri": "https://localhost:8080/",
          "height": 507
        },
        "id": "ZuNvUtF4xPU0",
        "outputId": "05716561-1d81-44b4-93b6-24d46f5cd365"
      },
      "outputs": [],
      "source": [
        "plt.style.use('dark_background')\n",
        "sns.displot(x= 'baseFare', data=df);"
      ]
    },
    {
      "cell_type": "code",
      "execution_count": null,
      "metadata": {},
      "outputs": [],
      "source": [
        "#df['arrivalTime'].astype(str).str[:2].value_counts().sort_values()\n",
        "df['arrivalTime'].astype(int).value_counts().sort_index()\n"
      ]
    },
    {
      "cell_type": "code",
      "execution_count": null,
      "metadata": {},
      "outputs": [],
      "source": [
        "df['arrivalTime'].astype(int).value_counts().sort_index().plot(kind='line')\n",
        "plt.xlabel('hours')\n",
        "plt.ylabel('frequency')\n",
        "plt.title(\"most hours of arrival time\",\n",
        "          fontsize='20');"
      ]
    },
    {
      "cell_type": "code",
      "execution_count": null,
      "metadata": {},
      "outputs": [],
      "source": [
        "df['arrivalTime'].astype(int).value_counts().sort_index().plot(kind='line')\n",
        "plt.xlabel('hours')\n",
        "plt.ylabel('frequency')\n",
        "plt.title(\"most hours of depurture time\",\n",
        "          fontsize='20');"
      ]
    },
    {
      "cell_type": "code",
      "execution_count": null,
      "metadata": {
        "colab": {
          "base_uri": "https://localhost:8080/",
          "height": 206
        },
        "id": "wKl5Crs644k_",
        "outputId": "049b197b-17a0-4bc2-fdff-1169a72efe16"
      },
      "outputs": [],
      "source": [
        "nonStop.head(5)"
      ]
    },
    {
      "cell_type": "code",
      "execution_count": null,
      "metadata": {
        "colab": {
          "base_uri": "https://localhost:8080/",
          "height": 687
        },
        "id": "eWyJwntkxXjy",
        "outputId": "da84c552-e06c-4c9b-a72d-bd34665877b2"
      },
      "outputs": [],
      "source": [
        "nonStop = df.loc[df['isNonStop'] == True, ['segmentsAirlineName','baseFare']]\n",
        "plt.figure(figsize=(10,10))\n",
        "plt.xlabel(\"Airline\", fontsize=15)\n",
        "plt.ylabel(\"Price\", fontsize=15)\n",
        "#sns.lineplot(data=nonStop, x='segmentsAirlineName', y='baseFare', hue='segmentsAirlineName', color='blue')\n",
        "\n",
        "plt.title(\"Airline Vs Price\", fontsize=20)\n",
        "# Create a legend\n",
        "plt.legend(loc='right')\n",
        "plt.show()"
      ]
    },
    {
      "cell_type": "code",
      "execution_count": null,
      "metadata": {
        "colab": {
          "base_uri": "https://localhost:8080/"
        },
        "id": "2O30f76Fxa6M",
        "outputId": "8d901d93-e029-466a-a8b0-cff3b2ce53d1"
      },
      "outputs": [],
      "source": [
        "# Wie viele verschiedene Arline typen gibt es?\n",
        "df['segmentsAirlineName'].nunique()\n",
        "\n",
        "df['isNonStop'].sum()"
      ]
    },
    {
      "cell_type": "code",
      "execution_count": null,
      "metadata": {
        "colab": {
          "base_uri": "https://localhost:8080/"
        },
        "id": "gM2wG7e87T8-",
        "outputId": "1a98f14c-2f55-410a-cae0-7ac801ac6578"
      },
      "outputs": [],
      "source": [
        "nonStop['baseFare'].max()"
      ]
    },
    {
      "cell_type": "code",
      "execution_count": null,
      "metadata": {
        "colab": {
          "base_uri": "https://localhost:8080/"
        },
        "id": "yGcPHx8H7bX3",
        "outputId": "8e1875d0-f66d-445b-fde4-5da0f761869d"
      },
      "outputs": [],
      "source": [
        "nonStop['baseFare'].min()"
      ]
    },
    {
      "cell_type": "code",
      "execution_count": null,
      "metadata": {
        "colab": {
          "base_uri": "https://localhost:8080/"
        },
        "id": "XKIp-VnE6r64",
        "outputId": "6f5e4079-8a10-4362-e3ac-5c448f67b0a1"
      },
      "outputs": [],
      "source": [
        "# wie viele NonStop Flüge gibt es?\n",
        "df['isNonStop'].sum()"
      ]
    },
    {
      "cell_type": "code",
      "execution_count": null,
      "metadata": {},
      "outputs": [],
      "source": [
        "#import seaborn as sns\n",
        "#import matplotlib.pyplot as plt\n",
        "\n",
        "fig, ax = plt.subplots(ncols=2, nrows=1, figsize=(15, 5))\n",
        "\n",
        "sns.countplot(x='destinationAirport', data=df, palette='Blues_r', order=df['destinationAirport'].value_counts().index, ax=ax[0]).set(title='Frequency of Destination Airport')\n",
        "sns.countplot(x='startingAirport', data=df, palette='Blues_r', order=df['startingAirport'].value_counts().index, ax=ax[1]).set(title='Frequency Starting Airport')\n",
        "\n",
        "plt.tight_layout()\n",
        "plt.show()"
      ]
    },
    {
      "cell_type": "code",
      "execution_count": null,
      "metadata": {},
      "outputs": [],
      "source": [
        "top20Routes = df['totalRoute'].value_counts()[:20]\n",
        "\n",
        "plt.figure(figsize=(15,7))\n",
        "chart=sns.countplot(y='totalRoute',data=df,palette='Blues', order = top20Routes.index)\n",
        "plt.title(\"most 20 routes\",\n",
        "          fontsize='20')\n",
        "\n"
      ]
    },
    {
      "cell_type": "code",
      "execution_count": null,
      "metadata": {
        "colab": {
          "base_uri": "https://localhost:8080/",
          "height": 386
        },
        "id": "oI4OOEEIxgJd",
        "outputId": "9a46f737-33fa-4ad6-89e6-fd5ffab9f646"
      },
      "outputs": [],
      "source": [
        "#plt.style.use('dark_background')\n",
        "plt.figure(figsize=(15,8))\n",
        "sns.lineplot(data=df, x='totalTravelDistance', y='baseFare', hue='isBasicEconomy', palette='hls')\n",
        "plt.xlabel(\"Distance\", fontsize=15)\n",
        "plt.ylabel(\"Price\", fontsize=15)\n",
        "plt.show()"
      ]
    },
    {
      "cell_type": "code",
      "execution_count": null,
      "metadata": {
        "colab": {
          "base_uri": "https://localhost:8080/"
        },
        "id": "YTB127Zfxk3x",
        "outputId": "04d71c5e-78d4-43e3-f27d-1cedf01bd371"
      },
      "outputs": [],
      "source": [
        "# Ermitteln Sie das Maximum aus Spalte A, wenn Spalte B True ist\n",
        "max_value = df.loc[df['isBasicEconomy'] == True, 'baseFare'].max()\n",
        "\n",
        "# Zeigen Sie das Ergebnis an\n",
        "print('Der teuerste Economy FLug beträgt:' , max_value, 'USD.')"
      ]
    },
    {
      "cell_type": "code",
      "execution_count": null,
      "metadata": {
        "colab": {
          "base_uri": "https://localhost:8080/",
          "height": 486
        },
        "id": "Ak6tP-eZxopq",
        "outputId": "2d6751a5-c854-4e6e-b3f0-7ce60d24adb5"
      },
      "outputs": [],
      "source": [
        "from matplotlib.lines import Line2D\n",
        "#plt.figure(figsize=(10,10))\n",
        "plt.xlabel(\"Day of the week\", fontsize=15)\n",
        "plt.ylabel(\"Price\", fontsize=15)\n",
        "sns.lineplot(data=df, x='flightDateDay', y='baseFare', color='blue')\n",
        "sns.lineplot(data=df, x='searchDateDay', y='baseFare', color='pink')\n",
        "plt.title(\"Effekt of the Days\", fontsize=20)\n",
        "# Create custom legend labels with name and color\n",
        "custom_legend = [\n",
        "    Line2D([0], [0], color='blue', lw=2, label='Flight Date'),\n",
        "    Line2D([0], [0], color='pink', lw=2, label='Search Date')\n",
        "]\n",
        "\n",
        "plt.legend(handles=custom_legend, fontsize=12)\n",
        "\n",
        "plt.show()"
      ]
    },
    {
      "cell_type": "code",
      "execution_count": null,
      "metadata": {
        "colab": {
          "base_uri": "https://localhost:8080/",
          "height": 447
        },
        "id": "SxGZCJYm-xy3",
        "outputId": "420a6fe7-f4bf-42e7-928f-59e7f6718bfb"
      },
      "outputs": [],
      "source": [
        "plt.scatter(df[\"daysLeft\"],\n",
        "            df[\"baseFare\"],s=30, color='blue')"
      ]
    },
    {
      "cell_type": "code",
      "execution_count": null,
      "metadata": {
        "colab": {
          "base_uri": "https://localhost:8080/",
          "height": 702
        },
        "id": "nIwNwACnxsFO",
        "outputId": "79e71096-e0ff-4876-bf04-07ebc85f85ce"
      },
      "outputs": [],
      "source": [
        "plt.figure(figsize=(10,10))\n",
        "plt.xlabel(\"No of days left\", fontsize=15)\n",
        "plt.ylabel(\"Price\", fontsize=15)\n",
        "sns.lineplot(data=df, x='daysLeft', y='baseFare', color='blue')\n",
        "plt.title(\"Days left with Departure Vs Price\", fontsize=20)\n",
        "plt.show()"
      ]
    },
    {
      "attachments": {},
      "cell_type": "markdown",
      "metadata": {
        "id": "o-B2eMbxrIF-"
      },
      "source": [
        "## Notizen\n",
        "Interessante überlegungen zum Datensatz:\n",
        "a) Ist der Preis je nach Fluggesellschaft unterschiedlich?\n",
        "b) Wie wirkt sich der Preis aus, wenn die Tickets nur 1 oder 2 Tage vor dem Abflug gekauft werden?\n",
        "c) Ändert sich der Ticketpreis je nach Abflugzeit und Ankunftszeit?\n",
        "d) Wie unterscheidet sich der Ticketpreis zwischen Economy und Business Class?"
      ]
    },
    {
      "attachments": {},
      "cell_type": "markdown",
      "metadata": {
        "id": "hPCiKVwDAV9r"
      },
      "source": [
        "# 6. Model Entwicklung"
      ]
    },
    {
      "attachments": {},
      "cell_type": "markdown",
      "metadata": {
        "id": "RlBghGSuAhJG"
      },
      "source": [
        "## Erstellung Datensets"
      ]
    },
    {
      "cell_type": "code",
      "execution_count": null,
      "metadata": {
        "id": "MIxixpndRxjN"
      },
      "outputs": [],
      "source": [
        "desired_columns = ['startingAirport', 'destinationAirport', 'travelDurationMinutes',  'isBasicEconomy', 'isRefundable', \n",
        "                   'isNonStop', 'baseFare']\n",
        "\n",
        "# creat new dataframe with selected columns\n",
        "df_new = df[desired_columns].copy()\n",
        "df=df_new"
      ]
    },
    {
      "attachments": {},
      "cell_type": "markdown",
      "metadata": {},
      "source": [
        "## Spliting the Data"
      ]
    },
    {
      "cell_type": "code",
      "execution_count": null,
      "metadata": {},
      "outputs": [],
      "source": [
        "df = random_sample"
      ]
    },
    {
      "cell_type": "code",
      "execution_count": null,
      "metadata": {
        "colab": {
          "base_uri": "https://localhost:8080/",
          "height": 183
        },
        "id": "6esBTx7kD4d5",
        "outputId": "05fb5e63-d249-4add-9cd4-683de1a580d1"
      },
      "outputs": [],
      "source": [
        "X = df.drop(columns= \"baseFare\")\n",
        "y = df[\"baseFare\"]\n"
      ]
    },
    {
      "cell_type": "code",
      "execution_count": null,
      "metadata": {
        "id": "XW9zE6TmAekU"
      },
      "outputs": [],
      "source": [
        "from sklearn.model_selection import train_test_split\n",
        "# Daten in Trainings- und Testdaten aufteilen\n",
        "X_train, X_test, y_train, y_test = train_test_split(X, y, test_size=0.2, random_state=42)\n"
      ]
    },
    {
      "attachments": {},
      "cell_type": "markdown",
      "metadata": {},
      "source": [
        "## Berechnung des Baseline Mean Absolute Error (MAE) für die Spalte 'baseFare' im DataFrame 'df\n",
        "\n",
        "Die Baseline-Methode wird verwendet, um eine Referenzleistung zu erhalten, mit der die Leistung unseres eigentlichen Modells vergliechen werden kann. \n",
        "In diesem Fall wird der Baseline-MAE berechnet, indem wir den Durchschnittswert ('y_mean') der 'baseFare'-Spalte nehmen und eine Vorhersage ('y_pred_mae') für alle Datenpunkte im DataFrame erstellen, die diesem Durchschnittswert entsprechen.\n",
        "\n",
        "Der MAE gibt uns den durchschnittlichen absoluten Unterschied zwischen den tatsächlichen 'baseFare'-Werten und den Baseline-Vorhersagewerten an. \n",
        "Wenn unser Modell eine bessere Leistung erzielt, sollte der MAE niedriger sein als der Baseline-MAE.\n",
        "\n",
        "Der Baseline-MAE ist nützlich, um eine erste Einschätzung der Vorhersageleistung eines Modells zu erhalten. \n",
        "\n",
        "Ein niedriger Baseline-MAE, könnte darauf hinweisen, dass die Daten nicht viele variierende Muster enthalten und ein einfacher Durchschnitt als Vorhersage ausreicht. \n",
        "In diesem Fall müsste möglicherweise ein komplexeres Modell entwickelt werden, um bessere Vorhersagen zu erzielen.\n",
        "\n",
        "Ein hoher Baseline-MAE, deutet darauf hin, dass es Muster und Zusammenhänge in den Daten gibt, die von einem Modell erfasst werden könnten. .\n",
        "\n",
        "Insgesamt dient der Baseline-MAE als Ausgangspunkt für unsere Modellbewertung und hilft uns dabei, unseren Fortschritt und den Mehrwert unseres Modells zu beurteilen."
      ]
    },
    {
      "cell_type": "code",
      "execution_count": null,
      "metadata": {},
      "outputs": [],
      "source": [
        "df['baseFare'].min()"
      ]
    },
    {
      "cell_type": "code",
      "execution_count": null,
      "metadata": {},
      "outputs": [],
      "source": [
        "df= df_new"
      ]
    },
    {
      "cell_type": "code",
      "execution_count": null,
      "metadata": {},
      "outputs": [],
      "source": [
        "from sklearn.metrics import mean_absolute_error\n",
        "\n",
        "y_mean = df['baseFare'].mean()\n",
        "y_pred_mae = [y_mean] * len(df)\n",
        "y_baseline = mean_absolute_error(df['baseFare'], y_pred_mae)\n",
        "print(\"Baseline MAE:\", round(y_baseline))\n"
      ]
    },
    {
      "attachments": {},
      "cell_type": "markdown",
      "metadata": {},
      "source": [
        "# TODO bitte nochmal im internet recherchieren ob das richtig ist"
      ]
    },
    {
      "attachments": {},
      "cell_type": "markdown",
      "metadata": {},
      "source": [
        "Der MAE beträgt 146.\n",
        "Das bedeutet, dass unsere Baseline-Vorhersagen im Durchschnitt um 146 Einheiten von den tatsächlichen Flugpreisen abweichen.\n",
        "\n",
        "Um die Leistung unseres Modells zu bewerten, sollten wir sicherstellen, dass der MAE unseres Modells niedriger ist als dieser Baseline-MAE. Ein niedrigerer MAE zeigt an, dass unser Modell genauer ist und eine bessere Vorhersage der Flugpreise liefert.\n",
        "\n",
        "Es ist wichtig anzumerken, dass die Flugpreise in den Trainingsdaten einen breiten Bereich von 8.72 USD bis 4407.44 USD abdecken. Dieser Bereich spiegelt die Varianz und die unterschiedlichen Preise wider, die in den Flugdaten vorkommen. Indem wir unseren MAE mit dieser Spannweite vergleichen, können wir die Leistung unseres Modells besser einschätzen und bewerten, wie gut es in der Lage ist, die Flugpreise vorherzusagen."
      ]
    },
    {
      "attachments": {},
      "cell_type": "markdown",
      "metadata": {},
      "source": [
        "## Random Forrest"
      ]
    },
    {
      "attachments": {},
      "cell_type": "markdown",
      "metadata": {},
      "source": [
        "Der Random Forest Regressor komibiert mehrerer Decision Trees, um eine Vorhersage zu treffen. \n",
        "Im Training werden die  interen Parameter so optimiert, dass eine möglichst zutreffende Vorhersage erzielt werden kann.\n",
        "\n",
        "Nachdem das Modell trainiert wurde, haben wir Vorhersagen auf dem Testdatensatz (X_test) gemacht. Hierbei haben wir die Methode \"predict()\" auf dem rf_model-Objekt aufgerufen und als Ergebnis die Vorhersagewerte \"y_pred\" erhalten. \n",
        "\n",
        "Zur Evaluierung des Modelles wird der Mean Squared Error (MSE) herangezogen. Diese misst die durchschnittliche quadratische Abweichung zwischen den tatsächlichen Testwerten (y_test) und den vorhergesagten Werten (y_pred). Ein niedrigerer MSE deutet auf eine bessere Vorhersageleistung hin."
      ]
    },
    {
      "cell_type": "code",
      "execution_count": null,
      "metadata": {},
      "outputs": [],
      "source": [
        "from sklearn.ensemble import RandomForestRegressor\n",
        "from sklearn.metrics import mean_squared_error\n",
        "\n",
        "# Create a random forest regressor object\n",
        "rf_model = RandomForestRegressor()\n",
        "\n",
        "# Train the random forest model\n",
        "rf_model.fit(X_train, y_train)\n",
        "\n",
        "# Make predictions on the test set\n",
        "y_pred = rf_model.predict(X_test)\n",
        "\n",
        "# Evaluation des Modells\n",
        "mse = mean_squared_error(y_test, y_pred)\n",
        "mae = mean_absolute_error(y_test, y_pred)\n",
        "print(\"Mean Squared Error:\", mse)\n",
        "print(\"Mean Absolute Error:\", mae)\n"
      ]
    },
    {
      "attachments": {},
      "cell_type": "markdown",
      "metadata": {},
      "source": [
        "In unserem Fall beträgt der MSE 4471.650895294656. Dies bedeutet, dass die durchschnittliche quadratische Abweichung zwischen den tatsächlichen Flugpreisen und den Vorhersagen unseres Modells 4471.650895294656 beträgt."
      ]
    },
    {
      "attachments": {},
      "cell_type": "markdown",
      "metadata": {
        "id": "HQSbFgFaKMIj"
      },
      "source": [
        "# One-Hot-Encoding für die kategorischen Variablen durch\n",
        "X_train_encoded = pd.get_dummies(X_train)\n",
        "X_test_encoded = pd.get_dummies(X_test)"
      ]
    },
    {
      "attachments": {},
      "cell_type": "markdown",
      "metadata": {},
      "source": [
        "## Feature Importance"
      ]
    },
    {
      "cell_type": "code",
      "execution_count": null,
      "metadata": {
        "id": "2Orxaz2JoC0S"
      },
      "outputs": [],
      "source": [
        "from sklearn.ensemble import RandomForestRegressor\n",
        "\n",
        "# Create an instance of the Random Forest regressor\n",
        "model = RandomForestRegressor()\n",
        "\n",
        "# Fit the model to your data\n",
        "model.fit(X_train, y_train)\n",
        "\n",
        "# Get the feature importances\n",
        "feature_importances = model.feature_importances_\n",
        "\n",
        "# Create a dataframe to display the feature importances\n",
        "importance_df = pd.DataFrame({'Feature': X_train.columns, 'Importance': feature_importances})\n",
        "importance_df = importance_df.sort_values(by='Importance', ascending=False)\n",
        "\n",
        "# Print or display the feature importances\n",
        "print(importance_df)"
      ]
    },
    {
      "cell_type": "code",
      "execution_count": null,
      "metadata": {},
      "outputs": [],
      "source": [
        "\n",
        "plt.figure(figsize=(10, 6))\n",
        "plt.barh(importance_df['Feature'], importance_df['Importance'])\n",
        "plt.xlabel('Importance')\n",
        "plt.ylabel('Feature')\n",
        "plt.title('Feature Importants')\n",
        "plt.show()"
      ]
    },
    {
      "attachments": {},
      "cell_type": "markdown",
      "metadata": {},
      "source": [
        "## Lineare Regression"
      ]
    },
    {
      "cell_type": "code",
      "execution_count": null,
      "metadata": {},
      "outputs": [],
      "source": [
        "from sklearn.linear_model import LinearRegression\n",
        "\n",
        "# Instanz eines linearen Regressionsmodells\n",
        "model = LinearRegression()\n",
        "\n",
        "# Training\n",
        "model.fit(X_train, y_train)\n",
        "\n",
        "# Vorhersagen für die Testdaten\n",
        "y_pred = model.predict(X_test)\n",
        "\n",
        "# Bewertung der Vorhersageleistung\n",
        "mse = mean_squared_error(y_test, y_pred)\n",
        "mae = mean_absolute_error(y_test, y_pred)\n",
        "print(\"Mean Squared Error:\", mse)\n",
        "print(\"Mean Absolute Error:\", mae)"
      ]
    },
    {
      "cell_type": "code",
      "execution_count": null,
      "metadata": {
        "id": "_wx3dydjmZ9Y"
      },
      "outputs": [],
      "source": [
        "y_pred"
      ]
    }
  ],
  "metadata": {
    "accelerator": "GPU",
    "colab": {
      "gpuType": "T4",
      "provenance": []
    },
    "kernelspec": {
      "display_name": "Python 3",
      "name": "python3"
    },
    "language_info": {
      "codemirror_mode": {
        "name": "ipython",
        "version": 3
      },
      "file_extension": ".py",
      "mimetype": "text/x-python",
      "name": "python",
      "nbconvert_exporter": "python",
      "pygments_lexer": "ipython3",
      "version": "3.11.3"
    },
    "orig_nbformat": 4
  },
  "nbformat": 4,
  "nbformat_minor": 0
}
